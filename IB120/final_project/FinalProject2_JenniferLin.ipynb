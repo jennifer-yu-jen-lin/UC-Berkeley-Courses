{
  "nbformat": 4,
  "nbformat_minor": 0,
  "metadata": {
    "colab": {
      "name": "final_project_finished.ipynb",
      "provenance": [],
      "collapsed_sections": []
    },
    "kernelspec": {
      "display_name": "Python 3",
      "language": "python",
      "name": "python3"
    },
    "language_info": {
      "codemirror_mode": {
        "name": "ipython",
        "version": 3
      },
      "file_extension": ".py",
      "mimetype": "text/x-python",
      "name": "python",
      "nbconvert_exporter": "python",
      "pygments_lexer": "ipython3",
      "version": "3.6.1"
    }
  },
  "cells": [
    {
      "cell_type": "markdown",
      "metadata": {
        "colab_type": "text",
        "id": "ukulZ0DM_eMl"
      },
      "source": [
        "# Project 2: COVID19 Evolution\n",
        "\n",
        "Jennifer Lin\n",
        "\n",
        "jenniferyjlin@berkeley.edu"
      ]
    },
    {
      "cell_type": "markdown",
      "metadata": {
        "id": "AlqT1fmwC_ro",
        "colab_type": "text"
      },
      "source": [
        "This document can also be viewed on this google colab link.\n",
        "\n",
        "https://drive.google.com/file/d/1Xc0nmOdOj1-B7nvXc33qN89A_OMf4t3m/view?usp=sharing"
      ]
    },
    {
      "cell_type": "markdown",
      "metadata": {
        "id": "JkYGYaXLAj4I",
        "colab_type": "text"
      },
      "source": [
        "I use google colab to do this final project. The following codes are required for installing the packages on google colab.\n"
      ]
    },
    {
      "cell_type": "code",
      "metadata": {
        "id": "0XH8zYBmAdcS",
        "colab_type": "code",
        "colab": {}
      },
      "source": [
        "!pip install -q screed\n",
        "!pip install -q biopython"
      ],
      "execution_count": 0,
      "outputs": []
    },
    {
      "cell_type": "markdown",
      "metadata": {
        "colab_type": "text",
        "id": "JPAivgRp_8OY"
      },
      "source": [
        "# 0\n",
        "Import packages\n"
      ]
    },
    {
      "cell_type": "code",
      "metadata": {
        "colab_type": "code",
        "id": "wdRr-T_7ENcP",
        "colab": {
          "base_uri": "https://localhost:8080/",
          "height": 71
        },
        "outputId": "93cd3978-abd8-4849-bd03-f8f63ca0f8a0"
      },
      "source": [
        "import screed # for reading in FASTA/FASTQ\n",
        "import itertools\n",
        "import numpy as np\n",
        "import pandas as pd\n",
        "import seaborn as sns\n",
        "import matplotlib\n",
        "import matplotlib.pyplot as plt\n",
        "from scipy import stats\n",
        "import statistics\n",
        "from Bio.Phylo.TreeConstruction import _DistanceMatrix\n",
        "from Bio.Phylo.TreeConstruction import DistanceTreeConstructor\n",
        "from Bio import Phylo"
      ],
      "execution_count": 2,
      "outputs": [
        {
          "output_type": "stream",
          "text": [
            "/usr/local/lib/python3.6/dist-packages/statsmodels/tools/_testing.py:19: FutureWarning: pandas.util.testing is deprecated. Use the functions in the public API at pandas.testing instead.\n",
            "  import pandas.util.testing as tm\n"
          ],
          "name": "stderr"
        }
      ]
    },
    {
      "cell_type": "markdown",
      "metadata": {
        "colab_type": "text",
        "id": "n3JhMDwK_Zt4"
      },
      "source": [
        "# 1\n",
        "Implement code in python or R to compare the Jaccard distance between k-mers of any length from these sequences. *feel free to use any existing fasta parsers"
      ]
    },
    {
      "cell_type": "markdown",
      "metadata": {
        "id": "0E9SBxVDAWxc",
        "colab_type": "text"
      },
      "source": [
        "#### 1.1 Subfunction - `read_fasta`\n",
        "This function reads the fasta file indicated by the `filename` and only retrieves the sequences part of the input file. The output `names_list` gives us a list of the names of the sequences and the `sequences_list` gives us a list of all the sequences in `filename`."
      ]
    },
    {
      "cell_type": "code",
      "metadata": {
        "id": "SAXgmvrhAWxd",
        "colab_type": "code",
        "colab": {}
      },
      "source": [
        "def read_fasta(filename):\n",
        "    names_list = []\n",
        "    sequences_list = []\n",
        "    for record in screed.open(filename):\n",
        "        names_list.append(record.name)\n",
        "        sequences_list.append(record.sequence)\n",
        "    print(\"Read in \", len(sequences_list),\" sequences\", sep=\"\")\n",
        "    return names_list, sequences_list"
      ],
      "execution_count": 0,
      "outputs": []
    },
    {
      "cell_type": "markdown",
      "metadata": {
        "id": "Z5_2xVM1AWxk",
        "colab_type": "text"
      },
      "source": [
        "#### 1.2 Subfunction - `kmers`\n",
        "This function takes in two arguments. Every element in `sequences_list` is a sequence. The `k` (k-mer) represents the length that we want to divide the sequence into. \n",
        "In the function, the `kmers_list` gives us a list of all possible k-mers in that `sequence`. The output `sequences_kmers_list` aggregates all the `kmers_list` for every sequences."
      ]
    },
    {
      "cell_type": "code",
      "metadata": {
        "colab_type": "code",
        "id": "7XlcdUpiBWpc",
        "colab": {}
      },
      "source": [
        "def kmers(sequences_list, k):\n",
        "    sequences_kmers_list = []\n",
        "    for sequence in sequences_list:\n",
        "        kmers_list = []\n",
        "        kmers_num = len(sequence) - k + 1\n",
        "        for i in range(kmers_num):\n",
        "            kmer_i = sequence[i:(i+k)]\n",
        "            kmers_list.append(kmer_i)\n",
        "        sequences_kmers_list.append(kmers_list)\n",
        "    return sequences_kmers_list"
      ],
      "execution_count": 0,
      "outputs": []
    },
    {
      "cell_type": "markdown",
      "metadata": {
        "id": "qZwNJrc5AWxu",
        "colab_type": "text"
      },
      "source": [
        "#### 1.3 Subfunction - `jaccard_distance_2seq`\n",
        "This function takes in kmers_list from two sequences respectively (i.e. `sequence_a_kmers_list` and `sequence_b_kmers_list`) and gives us the jaccard distance between these two sequences."
      ]
    },
    {
      "cell_type": "code",
      "metadata": {
        "colab_type": "code",
        "id": "G_w-LpdFAVpw",
        "colab": {}
      },
      "source": [
        "def jaccard_distance_2seq(sequence_a_kmers_list, sequence_b_kmers_list):\n",
        "    sequence_a_kmers_set = set(sequence_a_kmers_list)\n",
        "    sequence_b_kmers_set = set(sequence_b_kmers_list)\n",
        "    intersection = len(sequence_a_kmers_set.intersection(sequence_b_kmers_set))\n",
        "    union = len(sequence_a_kmers_set.union(sequence_b_kmers_set))\n",
        "    return 1 - (intersection / union)"
      ],
      "execution_count": 0,
      "outputs": []
    },
    {
      "cell_type": "markdown",
      "metadata": {
        "id": "sSehJkdxAWx0",
        "colab_type": "text"
      },
      "source": [
        "#### 1.4 Main function - `jaccard_distance_Nseq`\n",
        "This function combines all subfunction 1.1, 1.2, and 1.3. Using this function, we can compare the Jaccard distance between k-mers of any length (`k`) from the sequences in `filename`. The output `jaccard_distance_list` returns a list of Jaccard distance for every unique pairs of sequences."
      ]
    },
    {
      "cell_type": "code",
      "metadata": {
        "id": "G5wPBiXXAWx1",
        "colab_type": "code",
        "colab": {}
      },
      "source": [
        "def jaccard_distance_Nseq(filename, k):\n",
        "    names_list, sequences_list = read_fasta(filename)\n",
        "    sequences_kmers_list = kmers(sequences_list, k)\n",
        "    jaccard_distance_list = []\n",
        "    for i in range(len(sequences_kmers_list)):\n",
        "        sequence_a_kmers_set = set(sequences_kmers_list[i])\n",
        "        for j in range(i+1,len(sequences_kmers_list)):\n",
        "            sequence_b_kmers_set = set(sequences_kmers_list[j])\n",
        "            jaccard_distance_i = jaccard_distance_2seq(sequence_a_kmers_set, sequence_b_kmers_set)\n",
        "            jaccard_distance_list.append(jaccard_distance_i)\n",
        "    return jaccard_distance_list"
      ],
      "execution_count": 0,
      "outputs": []
    },
    {
      "cell_type": "markdown",
      "metadata": {
        "id": "rwaJC8F4AWx-",
        "colab_type": "text"
      },
      "source": [
        "# 2 \n",
        "Plot the distribution of inter-sequence Jaccard distances among all sequences for k=15, 30, 50, and 100. How do different k-mer lengths change the distribution of distances?"
      ]
    },
    {
      "cell_type": "code",
      "metadata": {
        "id": "J3phHlhGAWyA",
        "colab_type": "code",
        "outputId": "e0788033-cff3-42b0-aee9-5bb5557462b9",
        "colab": {
          "base_uri": "https://localhost:8080/",
          "height": 85
        }
      },
      "source": [
        "results = []\n",
        "k_list = [15,30,50,100]\n",
        "for k in k_list:\n",
        "    result_i = jaccard_distance_Nseq(\"covid_sequences.fa\",k)\n",
        "    results.append(result_i)\n",
        "# This takes around 5 minutes to run."
      ],
      "execution_count": 7,
      "outputs": [
        {
          "output_type": "stream",
          "text": [
            "Read in 200 sequences\n",
            "Read in 200 sequences\n",
            "Read in 200 sequences\n",
            "Read in 200 sequences\n"
          ],
          "name": "stdout"
        }
      ]
    },
    {
      "cell_type": "code",
      "metadata": {
        "id": "KQbH47q0ESg5",
        "colab_type": "code",
        "outputId": "fe033804-d69c-433e-af54-41f9d5cea643",
        "colab": {
          "base_uri": "https://localhost:8080/",
          "height": 298
        }
      },
      "source": [
        "i = 0\n",
        "print(sns.distplot(results[i]).set_title('k='+str(k_list[i])))"
      ],
      "execution_count": 8,
      "outputs": [
        {
          "output_type": "stream",
          "text": [
            "Text(0.5, 1.0, 'k=15')\n"
          ],
          "name": "stdout"
        },
        {
          "output_type": "display_data",
          "data": {
            "image/png": "[encoded data removed]",
            "text/plain": [
              "<Figure size 432x288 with 1 Axes>"
            ]
          },
          "metadata": {
            "tags": [],
            "needs_background": "light"
          }
        }
      ]
    },
    {
      "cell_type": "code",
      "metadata": {
        "id": "izORI0emPT3q",
        "colab_type": "code",
        "outputId": "9d22cb34-0c73-48c1-9c3a-881148650258",
        "colab": {
          "base_uri": "https://localhost:8080/",
          "height": 298
        }
      },
      "source": [
        "i = 1\n",
        "print(sns.distplot(results[i]).set_title('k='+str(k_list[i])))"
      ],
      "execution_count": 9,
      "outputs": [
        {
          "output_type": "stream",
          "text": [
            "Text(0.5, 1.0, 'k=30')\n"
          ],
          "name": "stdout"
        },
        {
          "output_type": "display_data",
          "data": {
            "image/png": "[encoded data removed]",
            "text/plain": [
              "<Figure size 432x288 with 1 Axes>"
            ]
          },
          "metadata": {
            "tags": [],
            "needs_background": "light"
          }
        }
      ]
    },
    {
      "cell_type": "code",
      "metadata": {
        "id": "1jtUMHKGPUl-",
        "colab_type": "code",
        "outputId": "b0be37f2-1355-4970-f50a-78285788ef4f",
        "colab": {
          "base_uri": "https://localhost:8080/",
          "height": 298
        }
      },
      "source": [
        "i = 2\n",
        "print(sns.distplot(results[i]).set_title('k='+str(k_list[i])))"
      ],
      "execution_count": 10,
      "outputs": [
        {
          "output_type": "stream",
          "text": [
            "Text(0.5, 1.0, 'k=50')\n"
          ],
          "name": "stdout"
        },
        {
          "output_type": "display_data",
          "data": {
            "image/png": "[encoded data removed]",
            "text/plain": [
              "<Figure size 432x288 with 1 Axes>"
            ]
          },
          "metadata": {
            "tags": [],
            "needs_background": "light"
          }
        }
      ]
    },
    {
      "cell_type": "code",
      "metadata": {
        "id": "fFY-l-AgPWwa",
        "colab_type": "code",
        "outputId": "26ccaba5-fc61-4cd2-8d82-264350322a79",
        "colab": {
          "base_uri": "https://localhost:8080/",
          "height": 298
        }
      },
      "source": [
        "i = 3\n",
        "print(sns.distplot(results[i]).set_title('k='+str(k_list[i])))"
      ],
      "execution_count": 11,
      "outputs": [
        {
          "output_type": "stream",
          "text": [
            "Text(0.5, 1.0, 'k=100')\n"
          ],
          "name": "stdout"
        },
        {
          "output_type": "display_data",
          "data": {
            "image/png": "[encoded data removed]",
            "text/plain": [
              "<Figure size 432x288 with 1 Axes>"
            ]
          },
          "metadata": {
            "tags": [],
            "needs_background": "light"
          }
        }
      ]
    },
    {
      "cell_type": "markdown",
      "metadata": {
        "id": "pPhhCS5yPba0",
        "colab_type": "text"
      },
      "source": [
        "> When the k-mer length increases, the slices of the given sequences are longer. Hence, it is harder for us to find the exactly same slice in the k-mer sets between two sequences. As a result, when the k is higher, the distances would be higher. That's the reason why we can see the distribution of the distance shift to right when k increased."
      ]
    },
    {
      "cell_type": "markdown",
      "metadata": {
        "id": "BOi7e28cDSIl",
        "colab_type": "text"
      },
      "source": [
        "# 3\n",
        "Use the aligned sequences file to calculate the hamming distance between all pairs of\n",
        "sequences. What happens when you ignore gaps (-) and N’s (N)?"
      ]
    },
    {
      "cell_type": "markdown",
      "metadata": {
        "id": "hw50II2M0lAh",
        "colab_type": "text"
      },
      "source": [
        "#### `implement_func_on_pairs`\n",
        "This function will help us implement the `FUNCTION` on all the unique pairs the input `filename` sequences. The `FUNCTION` will be built in 3.1 and 3.2."
      ]
    },
    {
      "cell_type": "code",
      "metadata": {
        "id": "vw1UTTZ30lNK",
        "colab_type": "code",
        "colab": {}
      },
      "source": [
        "def implement_func_on_pairs(filename, FUNCTION):\n",
        "    names_list, sequences_list = read_fasta(filename)\n",
        "    distance_matrix = []\n",
        "    for i in range(len(sequences_list)):\n",
        "        m_i = []\n",
        "        for j in range(i+1):\n",
        "            differences_ij = FUNCTION(sequences_list[i],sequences_list[j])\n",
        "            m_i.append(differences_ij)\n",
        "        distance_matrix.append(m_i)\n",
        "    return names_list, distance_matrix"
      ],
      "execution_count": 0,
      "outputs": []
    },
    {
      "cell_type": "markdown",
      "metadata": {
        "id": "rS0w1wPbPrKi",
        "colab_type": "text"
      },
      "source": [
        "#### 3.1 Hamming distance including gaps(`-`) and Ns (`N`) - `hamming_distance_include_GN`\n",
        "In this function, the gaps (`-`) and Ns (`N`) are considered as different characters from all other characters. As a result, we calculate the differences between thses 6 characters `A`, `C`, `G`, `T`, `-`, `N` in total. This function calculates and returns the `differences` between `sequence_a` and `sequence_b`. "
      ]
    },
    {
      "cell_type": "code",
      "metadata": {
        "id": "9oaAFZMtDV7d",
        "colab_type": "code",
        "colab": {}
      },
      "source": [
        "def hamming_distance_include_GN_2seq(sequence_a, sequence_b):\n",
        "    differences = 0\n",
        "    for nucleotide_a, nucleotide_b in zip(sequence_a, sequence_b):\n",
        "        if nucleotide_a != nucleotide_b:\n",
        "            differences += 1\n",
        "    return differences"
      ],
      "execution_count": 0,
      "outputs": []
    },
    {
      "cell_type": "code",
      "metadata": {
        "id": "v1eV13Ue66n6",
        "colab_type": "code",
        "outputId": "6c4d6cc3-1506-4c9b-e7fb-5cbfdf63d7e2",
        "colab": {
          "base_uri": "https://localhost:8080/",
          "height": 34
        }
      },
      "source": [
        "names_list_include_GN, distance_matrix_include_GN = implement_func_on_pairs(\"covid_aligned_sequences.aln\", hamming_distance_include_GN_2seq)"
      ],
      "execution_count": 14,
      "outputs": [
        {
          "output_type": "stream",
          "text": [
            "Read in 200 sequences\n"
          ],
          "name": "stdout"
        }
      ]
    },
    {
      "cell_type": "code",
      "metadata": {
        "id": "_PDtQIjM9o7C",
        "colab_type": "code",
        "outputId": "13b924a8-545a-40ba-99ec-50093f1038c2",
        "colab": {
          "base_uri": "https://localhost:8080/",
          "height": 34
        }
      },
      "source": [
        "print(distance_matrix_include_GN[:5])"
      ],
      "execution_count": 15,
      "outputs": [
        {
          "output_type": "stream",
          "text": [
            "[[0], [10148, 0], [10470, 1220, 0], [10710, 2044, 824, 0], [10941, 1869, 649, 733, 0]]\n"
          ],
          "name": "stdout"
        }
      ]
    },
    {
      "cell_type": "markdown",
      "metadata": {
        "id": "-C9_V6xeRUtE",
        "colab_type": "text"
      },
      "source": [
        "#### 3.2 Hamming distance ignoring gaps(`-`) and Ns (`N`) - `hamming_distance_ignore_GN`\n",
        "In this function, the gaps (`-`) and Ns (`N`) are ignored. When there is at least a gap (`-`) or an N (`N`) in either of the current position of the two sequences, we do not consider the differences in this position anymore. As a result, we only calculate the differences between thses 4 characters `A`, `C`, `G`, `T`. This function calculates and returns the `differences` between `sequence_a` and `sequence_b`. "
      ]
    },
    {
      "cell_type": "code",
      "metadata": {
        "id": "oSrEVooxUCRJ",
        "colab_type": "code",
        "colab": {}
      },
      "source": [
        "def hamming_distance_ignore_GN_2seq(sequence_a, sequence_b):        \n",
        "    differences = 0\n",
        "    for nucleotide_a, nucleotide_b in zip(sequence_a, sequence_b):\n",
        "        if nucleotide_a != nucleotide_b and nucleotide_a!=\"-\" and nucleotide_a!=\"N\" and nucleotide_b!=\"-\" and nucleotide_b!=\"N\": \n",
        "            differences += 1\n",
        "    return differences"
      ],
      "execution_count": 0,
      "outputs": []
    },
    {
      "cell_type": "code",
      "metadata": {
        "id": "rLpAJ3bB7o1n",
        "colab_type": "code",
        "outputId": "e7a7b308-96b2-48fe-fa7f-2675506f9d76",
        "colab": {
          "base_uri": "https://localhost:8080/",
          "height": 34
        }
      },
      "source": [
        "names_list_ignore_GN, distance_matrix_ignore_GN = implement_func_on_pairs(\"covid_aligned_sequences.aln\", hamming_distance_ignore_GN_2seq)"
      ],
      "execution_count": 17,
      "outputs": [
        {
          "output_type": "stream",
          "text": [
            "Read in 200 sequences\n"
          ],
          "name": "stdout"
        }
      ]
    },
    {
      "cell_type": "code",
      "metadata": {
        "id": "TQ4eN5QM9RgK",
        "colab_type": "code",
        "outputId": "34834b28-c460-442a-af32-dbf6be4ce45b",
        "colab": {
          "base_uri": "https://localhost:8080/",
          "height": 34
        }
      },
      "source": [
        "print(distance_matrix_ignore_GN[:5])"
      ],
      "execution_count": 18,
      "outputs": [
        {
          "output_type": "stream",
          "text": [
            "[[0], [41, 0], [42, 1, 0], [41, 12, 11, 0], [43, 2, 1, 12, 0]]\n"
          ],
          "name": "stdout"
        }
      ]
    },
    {
      "cell_type": "markdown",
      "metadata": {
        "id": "h-m-ORkg79Kq",
        "colab_type": "text"
      },
      "source": [
        "#### 3.3 Compare the result of `hamming_distance_include_GN_2seq` and `hamming_distance_ignore_GN_2seq`"
      ]
    },
    {
      "cell_type": "code",
      "metadata": {
        "id": "vgn_h4bT77fs",
        "colab_type": "code",
        "colab": {}
      },
      "source": [
        "# include gaps and Ns\n",
        "distances_include_GN = []\n",
        "for distance_list in distance_matrix_include_GN:\n",
        "    for distance in distance_list:\n",
        "        distances_include_GN.append(distance)\n",
        "# ignore gaps and Ns\n",
        "distances_ignore_GN = []\n",
        "for distance_list in distance_matrix_ignore_GN:\n",
        "    for distance in distance_list:\n",
        "        distances_ignore_GN.append(distance)"
      ],
      "execution_count": 0,
      "outputs": []
    },
    {
      "cell_type": "code",
      "metadata": {
        "id": "tELwMwUf_uoJ",
        "colab_type": "code",
        "colab": {}
      },
      "source": [
        "avg_include_GN = sum(distances_include_GN) / (len(distances_include_GN)-200) # The distance of the sequence and itself is 0. Hence, the 200 zeros would be excluded.\n",
        "avg_ignore_GN = sum(distances_ignore_GN) / (len(distances_ignore_GN)-200) # The distance of the sequence and itself is 0. Hence, the 200 zeros would be excluded.\n",
        "var_include_GN = statistics.variance(distances_include_GN)\n",
        "var_ignore_GN = statistics.variance(distances_ignore_GN)"
      ],
      "execution_count": 0,
      "outputs": []
    },
    {
      "cell_type": "code",
      "metadata": {
        "id": "CqBjXCsgBk34",
        "colab_type": "code",
        "outputId": "9929a9dc-ce7b-4546-e1ee-582e2f2b18cf",
        "colab": {
          "base_uri": "https://localhost:8080/",
          "height": 85
        }
      },
      "source": [
        "print(\"The average distance including gaps and Ns would be\", round(avg_include_GN,2))\n",
        "print(\"The average distance ignoring gaps and Ns would be\", round(avg_ignore_GN,2))\n",
        "print(\"The variance of the distances including gaps and Ns would be\", round(var_include_GN,2))\n",
        "print(\"The variance of the distances ignoring gaps and Ns would be\", round(var_ignore_GN,2))"
      ],
      "execution_count": 22,
      "outputs": [
        {
          "output_type": "stream",
          "text": [
            "The average distance including gaps and Ns would be 217.7\n",
            "The average distance ignoring gaps and Ns would be 9.5\n",
            "The variance of the distances including gaps and Ns would be 1142372.62\n",
            "The variance of the distances ignoring gaps and Ns would be 40.67\n"
          ],
          "name": "stdout"
        }
      ]
    },
    {
      "cell_type": "markdown",
      "metadata": {
        "id": "nlUWND3r7y-J",
        "colab_type": "text"
      },
      "source": [
        "> Meanings of gaps and Ns\n",
        ">> The gaps in one of the sequences mean that one or more nucleotide residues have been deleted from the sequence, or we could also say that there is an insertion in the another sequence. The Ns are undetermined nucleotides when sequencing these viral genome. Hence, Th Ns would possibly be `A`, `C`, `G`, or `T`.\n",
        "\n",
        "> What happens when you ignore gaps (-) and N’s (N)?\n",
        ">> When we ignore gaps and Ns, the average distance dropped from `217.7` to `9.5` nucleotides. The variance dropped from `1142372.62` to `40.67`. \n",
        ">>\n",
        ">>This means that the differences caused by `A`, `C`, `G`, or `T` are only `9.5` nucleotides in average, whereas the differences caused by the gaps and Ns are far more than that (`217.7 - 9.5 = 208.2`). \n",
        ">>\n",
        ">>This may because the viruses evolve/mutate very quickly. It would cause a lot of variations in the sequences. When doing the alignments, the program may need to generate a lot of the gaps to fill in these highly diverse regions.\n",
        ">>\n",
        ">> It would not make much sense if we use the unsure part of the sequences to determine the phylogeny of these sequences. As a result, in this case, it would be better if we use the distance matrix ignoring gaps and Ns for building the phylogenetic tree.\n"
      ]
    },
    {
      "cell_type": "markdown",
      "metadata": {
        "id": "1uf5xSCYzGqc",
        "colab_type": "text"
      },
      "source": [
        "# 4\n",
        "Build a tree using the UPGMA algorithm from hamming distances calculated excluding gapped sequence. Feel free to use existing R or python functions to perform UPGMA clustering, and plot the final tree."
      ]
    },
    {
      "cell_type": "markdown",
      "metadata": {
        "id": "zs4s-whaJkW0",
        "colab_type": "text"
      },
      "source": [
        "#### 4.1\n",
        "Before builing the tree, I decide to add the information of the country that the virus was discovered from in order to view their evolution more clearly. In order to do so, I read in the `covid_sequences.fa` again to get the country information from the `name_full_information`"
      ]
    },
    {
      "cell_type": "code",
      "metadata": {
        "id": "EvVstzxkKgkk",
        "colab_type": "code",
        "outputId": "ac370113-a695-4331-ee0a-88f10d39aed9",
        "colab": {
          "base_uri": "https://localhost:8080/",
          "height": 139
        }
      },
      "source": [
        "name_full_information, sequences_not_used_here = read_fasta(\"covid_sequences.fa\")\n",
        "name_full_information[:5]"
      ],
      "execution_count": 21,
      "outputs": [
        {
          "output_type": "stream",
          "text": [
            "Read in 200 sequences\n"
          ],
          "name": "stdout"
        },
        {
          "output_type": "execute_result",
          "data": {
            "text/plain": [
              "['LC528232 |Severe acute respiratory syndrome coronavirus 2 SARS-CoV-2/Hu/DP/Kng/19-020 RNA| complete genome||Severe acute respiratory syndrome-related coronavirus|',\n",
              " 'LC528233 |Severe acute respiratory syndrome coronavirus 2 SARS-CoV-2/Hu/DP/Kng/19-027 RNA| complete genome||Severe acute respiratory syndrome-related coronavirus|',\n",
              " 'LC529905 |Severe acute respiratory syndrome coronavirus 2 TKYE6182_2020 RNA| complete genome|Japan|Severe acute respiratory syndrome-related coronavirus|',\n",
              " 'LC534418 |Severe acute respiratory syndrome coronavirus 2 SARS-CoV-2/Hu/DP/Kng/19-031 RNA| complete genome|Japan|Severe acute respiratory syndrome-related coronavirus|',\n",
              " 'LC534419 |Severe acute respiratory syndrome coronavirus 2 SARS-CoV-2/Hu/Kng/19-437 RNA| complete genome|Japan|Severe acute respiratory syndrome-related coronavirus|']"
            ]
          },
          "metadata": {
            "tags": []
          },
          "execution_count": 21
        }
      ]
    },
    {
      "cell_type": "markdown",
      "metadata": {
        "id": "xD59nb0yMTld",
        "colab_type": "text"
      },
      "source": [
        "I also build the `IDs` to `countries` dictionary (`IDs_countries_dict`) in order to add the country information them more easily."
      ]
    },
    {
      "cell_type": "code",
      "metadata": {
        "id": "XfvBEpoKKzKG",
        "colab_type": "code",
        "outputId": "42de7b1a-a653-424e-89e9-8a6feba2753e",
        "colab": {
          "base_uri": "https://localhost:8080/",
          "height": 88
        }
      },
      "source": [
        "# IDs\n",
        "IDs = []\n",
        "for n_i in name_full_information:\n",
        "    n_i_split = n_i.split(\"|\")\n",
        "    id_i = n_i_split[0]\n",
        "    IDs.append(id_i[:len(id_i)-1]) # remove version .X\n",
        "print(\"IDS:\", IDs[:5])\n",
        "# countries\n",
        "countries = []\n",
        "for n_i in name_full_information:\n",
        "    n_i_split = n_i.split(\"|\")\n",
        "    country = n_i_split[len(n_i_split)-3]\n",
        "    if country == \"\":\n",
        "        country = \"N/A\"\n",
        "    countries.append(country)\n",
        "print(\"countries:\", countries[:5]) # The first two entries do not have country information\n",
        "# IDs to countries dictionary\n",
        "IDs_countries_dict = {}\n",
        "for i in range(len(countries)):\n",
        "    IDs_countries_dict[IDs[i]] = countries[i]\n",
        "print(\"IDs_countries_dict:\", IDs_countries_dict)"
      ],
      "execution_count": 25,
      "outputs": [
        {
          "output_type": "stream",
          "text": [
            "IDS: ['LC528232', 'LC528233', 'LC529905', 'LC534418', 'LC534419']\n",
            "countries: ['N/A', 'N/A', 'Japan', 'Japan', 'Japan']\n",
            "IDs_countries_dict: {'LC528232': 'N/A', 'LC528233': 'N/A', 'LC529905': 'Japan', 'LC534418': 'Japan', 'LC534419': 'Japan', 'LC542809': 'Japan', 'LC542976': 'Japan', 'LR757995': 'China', 'LR757996': 'China', 'LR757997': 'China', 'LR757998': 'China', 'MN908947': 'China', 'MN938384': 'China', 'MN975262': 'China', 'MN985325': 'USA', 'MN988668': 'China', 'MN988669': 'China', 'MN988713': 'USA', 'MN994467': 'USA', 'MN994468': 'USA', 'MN996527': 'China', 'MN996528': 'China', 'MN996529': 'China', 'MN996530': 'China', 'MN996531': 'China', 'MN997409': 'USA', 'MT007544': 'Australia', 'MT012098': 'India', 'MT019529': 'China', 'MT019530': 'China', 'MT019531': 'China', 'MT019532': 'China', 'MT019533': 'China', 'MT020781': 'Finland', 'MT020880': 'USA', 'MT020881': 'USA', 'MT027062': 'USA', 'MT027063': 'USA', 'MT027064': 'USA', 'MT039873': 'China', 'MT039874': 'China', 'MT039887': 'USA', 'MT039888': 'USA', 'MT039890': 'South Korea', 'MT044257': 'USA', 'MT044258': 'USA', 'MT049951': 'China', 'MT050493': 'India', 'MT066156': 'Italy', 'MT066175': 'Taiwan', 'MT066176': 'Taiwan', 'MT072688': 'Nepal', 'MT077125': 'Italy', 'MT093571': 'Sweden', 'MT093631': 'China', 'MT106052': 'USA', 'MT106053': 'USA', 'MT106054': 'USA', 'MT114412': 'Hong Kong', 'MT114413': 'Hong Kong', 'MT114414': 'Hong Kong', 'MT114415': 'Hong Kong', 'MT114416': 'Hong Kong', 'MT114417': 'Hong Kong', 'MT114418': 'Hong Kong', 'MT114419': 'Hong Kong', 'MT118835': 'USA', 'MT121215': 'China', 'MT123290': 'China', 'MT123291': 'China', 'MT123292': 'China', 'MT123293': 'China', 'MT126808': 'Brazil', 'MT135041': 'China', 'MT135042': 'China', 'MT135043': 'China', 'MT135044': 'China', 'MT152824': 'USA', 'MT159705': 'USA', 'MT159706': 'USA', 'MT159707': 'USA', 'MT159708': 'USA', 'MT159709': 'USA', 'MT159710': 'USA', 'MT159711': 'USA', 'MT159712': 'USA', 'MT159713': 'USA', 'MT159714': 'USA', 'MT159715': 'USA', 'MT159716': 'USA', 'MT159717': 'USA', 'MT159718': 'USA', 'MT159719': 'USA', 'MT159720': 'USA', 'MT159721': 'USA', 'MT159722': 'USA', 'MT163716': 'USA', 'MT163717': 'USA', 'MT163718': 'USA', 'MT163719': 'USA', 'MT163720': 'USA', 'MT163721': 'USA', 'MT184907': 'USA', 'MT184908': 'USA', 'MT184909': 'USA', 'MT184910': 'USA', 'MT184911': 'USA', 'MT184912': 'USA', 'MT184913': 'USA', 'MT186683': 'Hong Kong', 'MT188339': 'USA', 'MT188340': 'USA', 'MT188341': 'USA', 'MT192759': 'Taiwan', 'MT192765': 'USA', 'MT192772': 'Viet Nam', 'MT192773': 'Viet Nam', 'MT198651': 'Spain', 'MT198652': 'Spain', 'MT198653': 'Spain', 'MT226610': 'China', 'MT230904': 'Hong Kong', 'MT233519': 'Spain', 'MT233520': 'Spain', 'MT233521': 'Spain', 'MT233522': 'Spain', 'MT233523': 'Spain', 'MT233526': 'USA', 'MT240479': 'Pakistan', 'MT246449': 'USA', 'MT246450': 'USA', 'MT246451': 'USA', 'MT246452': 'USA', 'MT246453': 'USA', 'MT246454': 'USA', 'MT246455': 'USA', 'MT246456': 'USA', 'MT246457': 'USA', 'MT246458': 'USA', 'MT246459': 'USA', 'MT246460': 'USA', 'MT246461': 'USA', 'MT246462': 'USA', 'MT246463': 'USA', 'MT246464': 'USA', 'MT246465': 'USA', 'MT246466': 'USA', 'MT246467': 'USA', 'MT246468': 'USA', 'MT246469': 'USA', 'MT246470': 'USA', 'MT246471': 'USA', 'MT246472': 'USA', 'MT246473': 'USA', 'MT246474': 'USA', 'MT246475': 'USA', 'MT246476': 'USA', 'MT246477': 'USA', 'MT246478': 'USA', 'MT246479': 'USA', 'MT246480': 'USA', 'MT246481': 'USA', 'MT246482': 'USA', 'MT246483': 'USA', 'MT246484': 'USA', 'MT246485': 'USA', 'MT246486': 'USA', 'MT246487': 'USA', 'MT246488': 'USA', 'MT246489': 'USA', 'MT246490': 'USA', 'MT246667': 'USA', 'MT251972': 'USA', 'MT251973': 'USA', 'MT251974': 'USA', 'MT251975': 'USA', 'MT251976': 'USA', 'MT251977': 'USA', 'MT251978': 'USA', 'MT251979': 'USA', 'MT251980': 'USA', 'MT252677': 'USA', 'MT252678': 'USA', 'MT252679': 'USA', 'MT252680': 'USA', 'MT252681': 'USA', 'MT252682': 'USA', 'MT252683': 'USA', 'MT252684': 'USA', 'MT252685': 'USA', 'MT252686': 'USA', 'MT252687': 'USA', 'MT252688': 'USA', 'MT252689': 'USA', 'MT252690': 'USA', 'MT252691': 'USA', 'MT252692': 'USA', 'MT252693': 'USA', 'MT252694': 'USA', 'MT252695': 'USA'}\n"
          ],
          "name": "stdout"
        }
      ]
    },
    {
      "cell_type": "markdown",
      "metadata": {
        "id": "mTh1pChCMzb9",
        "colab_type": "text"
      },
      "source": [
        "Convert the `names` in `names_list_ignore_GN` (from 3.2) to `names_IDs_countries`."
      ]
    },
    {
      "cell_type": "code",
      "metadata": {
        "id": "qyNpl-kuKS9Z",
        "colab_type": "code",
        "outputId": "caa2e0eb-de3f-475a-b82b-ac9dd91ac888",
        "colab": {
          "base_uri": "https://localhost:8080/",
          "height": 51
        }
      },
      "source": [
        "names = names_list_ignore_GN # from 3.2\n",
        "names_IDs_countries = []\n",
        "for n_i in names:\n",
        "    n_i_split = n_i.split(\"|\")\n",
        "    id_i = n_i_split[1]\n",
        "    ID = id_i[:len(id_i)-2] # remove version .X\n",
        "    country = IDs_countries_dict[ID]\n",
        "    names_IDs_countries.append(ID + \"_\" +country)\n",
        "print(\"original names:\", names[:5])\n",
        "print(\"new names:\",names_IDs_countries[:5])"
      ],
      "execution_count": 24,
      "outputs": [
        {
          "output_type": "stream",
          "text": [
            "original names: ['emb|LR757997.1', 'gb|MT198651.1', 'gb|MT233520.1', 'gb|MT246465.1', 'gb|MT233521.1']\n",
            "new names: ['LR757997_China', 'MT198651_Spain', 'MT233520_Spain', 'MT246465_USA', 'MT233521_Spain']\n"
          ],
          "name": "stdout"
        }
      ]
    },
    {
      "cell_type": "markdown",
      "metadata": {
        "id": "UFgWNm9iQfSo",
        "colab_type": "text"
      },
      "source": [
        "#### 4.1 Create the `dm` which belongs to the `_DistanceMatrix` class"
      ]
    },
    {
      "cell_type": "code",
      "metadata": {
        "id": "0h6qUuPYIZ26",
        "colab_type": "code",
        "colab": {}
      },
      "source": [
        "names = names_IDs_countries # from 3.2\n",
        "matrix = distance_matrix_ignore_GN # from 3.2\n",
        "dm = _DistanceMatrix(names, matrix)"
      ],
      "execution_count": 0,
      "outputs": []
    },
    {
      "cell_type": "code",
      "metadata": {
        "id": "5yjmkhksIpWH",
        "colab_type": "code",
        "outputId": "f08c93af-53bf-405c-98e2-1bde4c1215b4",
        "colab": {
          "base_uri": "https://localhost:8080/",
          "height": 54
        }
      },
      "source": [
        "dm"
      ],
      "execution_count": 27,
      "outputs": [
        {
          "output_type": "execute_result",
          "data": {
            "text/plain": [
              "DistanceMatrix(names=['LR757997_China', 'MT198651_Spain', 'MT233520_Spain', 'MT246465_USA', 'MT233521_Spain', 'MT198653_Spain', 'MT246483_USA', 'MT252692_USA', 'MT246463_USA', 'MT246458_USA', 'MT233522_Spain', 'MT246456_USA', 'MT163721_USA', 'MT252693_USA', 'MT246485_USA', 'MT226610_China', 'MT246468_USA', 'MT246473_USA', 'MT251973_USA', 'MT039890_South Korea', 'MN988713_USA', 'MT184911_USA', 'MT093571_Sweden', 'MT123291_China', 'MT123293_China', 'MT184910_USA', 'MT019530_China', 'MT240479_Pakistan', 'MT184908_USA', 'MT184913_USA', 'MT246454_USA', 'MT163716_USA', 'MT039888_USA', 'MT012098_India', 'MT159712_USA', 'MT186683_Hong Kong', 'MT027063_USA', 'MT027062_USA', 'LC542809_Japan', 'MT114415_Hong Kong', 'MT114414_Hong Kong', 'MT007544_Australia', 'MT019529_China', 'LC529905_Japan', 'MT159722_USA', 'MT159705_USA', 'MT126808_Brazil', 'MT066156_Italy', 'MT123290_China', 'LC528233_N/A', 'MN996531_China', 'MN996529_China', 'MT066176_Taiwan', 'MN994468_USA', 'MT159717_USA', 'MT159718_USA', 'MT159720_USA', 'LC534418_Japan', 'LR757998_China', 'LC534419_Japan', 'MT027064_USA', 'MT121215_China', 'MT184912_USA', 'MT114418_Hong Kong', 'MT114419_Hong Kong', 'LC528232_N/A', 'MT077125_Italy', 'MT192773_Viet Nam', 'MT192772_Viet Nam', 'MN996527_China', 'MT072688_Nepal', 'MT188340_USA', 'MT020781_Finland', 'MT093631_China', 'MT159716_USA', 'MT039887_USA', 'MT019533_China', 'MT106053_USA', 'MT159715_USA', 'MT019531_China', 'MT114413_Hong Kong', 'MT114412_Hong Kong', 'MT159706_USA', 'MT159707_USA', 'MT159709_USA', 'MT159708_USA', 'MT044258_USA', 'MT192759_Taiwan', 'LR757996_China', 'MT019532_China', 'MN908947_China', 'MN996528_China', 'MT039874_China', 'MN996530_China', 'MN988669_China', 'MN988668_China', 'MT159719_USA', 'MT184909_USA', 'MT184907_USA', 'MT039873_China', 'MT159710_USA', 'MT159711_USA', 'MT159713_USA', 'MT159714_USA', 'MT159721_USA', 'MT118835_USA', 'MT044257_USA', 'MN994467_USA', 'MT230904_Hong Kong', 'MT233523_Spain', 'MT233519_Spain', 'MT198652_Spain', 'MT106054_USA', 'MT050493_India', 'MT123292_China', 'MT049951_China', 'MT135041_China', 'MT135044_China', 'MT135042_China', 'MT135043_China', 'MN975262_China', 'MT106052_USA', 'LC542976_Japan', 'MN997409_USA', 'MN938384_China', 'MT246667_USA', 'MT020880_USA', 'MN985325_USA', 'MT020881_USA', 'MT233526_USA', 'LR757995_China', 'MT114417_Hong Kong', 'MT114416_Hong Kong', 'MT066175_Taiwan', 'MT246482_USA', 'MT251980_USA', 'MT188339_USA', 'MT188341_USA', 'MT246459_USA', 'MT251975_USA', 'MT246471_USA', 'MT246464_USA', 'MT246489_USA', 'MT246478_USA', 'MT246472_USA', 'MT246486_USA', 'MT246475_USA', 'MT252681_USA', 'MT252679_USA', 'MT252684_USA', 'MT252680_USA', 'MT246455_USA', 'MT246469_USA', 'MT246476_USA', 'MT246461_USA', 'MT246488_USA', 'MT252690_USA', 'MT163720_USA', 'MT252683_USA', 'MT252687_USA', 'MT251977_USA', 'MT246479_USA', 'MT251972_USA', 'MT252694_USA', 'MT246457_USA', 'MT246474_USA', 'MT246452_USA', 'MT246462_USA', 'MT251978_USA', 'MT163719_USA', 'MT152824_USA', 'MT252686_USA', 'MT246477_USA', 'MT163717_USA', 'MT252677_USA', 'MT246466_USA', 'MT163718_USA', 'MT252691_USA', 'MT252685_USA', 'MT252689_USA', 'MT252688_USA', 'MT246487_USA', 'MT251979_USA', 'MT246451_USA', 'MT246484_USA', 'MT246453_USA', 'MT246470_USA', 'MT192765_USA', 'MT251974_USA', 'MT246480_USA', 'MT246481_USA', 'MT246467_USA', 'MT252678_USA', 'MT246460_USA', 'MT251976_USA', 'MT246490_USA', 'MT246450_USA', 'MT252682_USA', 'MT246449_USA', 'MT252695_USA'], matrix=[[0], [41, 0], [42, 1, 0], [41, 12, 11, 0], [43, 2, 1, 12, 0], [40, 12, 11, 12, 12, 0], [40, 10, 9, 4, 10, 9, 0], [39, 14, 13, 14, 14, 9, 12, 0], [40, 9, 8, 4, 9, 9, 1, 10, 0], [40, 10, 9, 4, 10, 10, 2, 12, 1, 0], [43, 16, 15, 16, 16, 5, 13, 13, 13, 14, 0], [45, 13, 12, 10, 13, 13, 6, 15, 6, 5, 15, 0], [42, 12, 11, 7, 12, 11, 4, 14, 5, 4, 15, 13, 0], [41, 9, 8, 3, 9, 9, 1, 11, 0, 1, 13, 4, 3, 0], [42, 11, 10, 5, 11, 10, 3, 13, 3, 3, 14, 11, 6, 2, 0], [58, 32, 31, 33, 32, 32, 30, 32, 29, 30, 36, 36, 36, 29, 34, 0], [41, 10, 9, 5, 10, 9, 2, 12, 1, 2, 13, 8, 8, 1, 6, 30, 0], [42, 11, 10, 7, 11, 11, 3, 12, 3, 3, 15, 8, 7, 2, 7, 32, 4, 0], [41, 15, 14, 16, 15, 4, 12, 12, 12, 13, 7, 19, 18, 12, 16, 35, 12, 15, 0], [43, 17, 16, 18, 16, 13, 14, 15, 14, 15, 17, 21, 20, 14, 19, 37, 15, 17, 16, 0], [42, 14, 13, 15, 14, 12, 12, 14, 11, 12, 16, 18, 17, 11, 16, 34, 12, 14, 15, 17, 0], [42, 18, 17, 19, 18, 14, 16, 14, 15, 16, 18, 22, 22, 15, 20, 36, 16, 18, 17, 19, 18, 0], [41, 15, 14, 15, 15, 11, 13, 13, 12, 13, 15, 19, 19, 12, 17, 35, 13, 15, 14, 14, 15, 17, 0], [37, 12, 11, 12, 12, 8, 10, 10, 9, 10, 12, 16, 16, 9, 14, 32, 10, 12, 11, 13, 12, 14, 11, 0], [39, 13, 12, 13, 13, 9, 11, 11, 10, 11, 13, 17, 17, 10, 15, 33, 11, 13, 12, 14, 13, 15, 12, 3, 0], [38, 13, 14, 16, 15, 9, 12, 10, 12, 13, 15, 18, 18, 12, 16, 33, 12, 15, 14, 16, 15, 15, 14, 11, 12, 0], [42, 14, 13, 10, 14, 10, 6, 6, 5, 6, 14, 18, 12, 11, 10, 34, 12, 14, 13, 15, 14, 16, 13, 10, 11, 13, 0], [40, 14, 13, 15, 14, 8, 11, 9, 11, 12, 12, 18, 17, 11, 15, 32, 11, 14, 11, 15, 14, 14, 13, 10, 11, 11, 12, 0], [38, 11, 12, 14, 13, 7, 10, 10, 10, 11, 13, 16, 16, 10, 14, 33, 10, 13, 12, 14, 13, 15, 12, 9, 10, 6, 11, 11, 0], [41, 14, 13, 15, 14, 10, 12, 10, 11, 12, 14, 18, 18, 11, 16, 32, 12, 14, 13, 15, 14, 14, 13, 10, 11, 11, 12, 10, 11, 0], [39, 12, 11, 15, 12, 10, 12, 10, 11, 12, 14, 18, 18, 11, 16, 32, 12, 14, 13, 13, 14, 14, 11, 10, 11, 11, 12, 10, 11, 10, 0], [40, 11, 11, 15, 12, 10, 12, 10, 13, 12, 14, 21, 14, 11, 14, 39, 16, 16, 19, 20, 21, 21, 18, 16, 17, 18, 19, 14, 18, 17, 12, 0], [40, 12, 11, 14, 13, 9, 11, 11, 10, 11, 13, 17, 17, 10, 15, 33, 11, 13, 12, 14, 11, 15, 12, 9, 10, 12, 11, 11, 10, 11, 11, 18, 0], [38, 13, 12, 14, 13, 9, 11, 11, 10, 11, 13, 17, 17, 10, 15, 33, 11, 13, 12, 14, 13, 15, 12, 7, 8, 12, 11, 11, 10, 11, 11, 17, 10, 0], [36, 11, 10, 12, 11, 7, 9, 9, 8, 9, 11, 15, 15, 8, 13, 31, 9, 11, 10, 12, 11, 13, 10, 7, 8, 10, 9, 9, 8, 9, 9, 16, 8, 8, 0], [39, 11, 10, 12, 11, 7, 9, 9, 8, 9, 11, 15, 15, 8, 13, 31, 9, 11, 10, 10, 11, 13, 8, 7, 8, 10, 9, 9, 8, 9, 7, 14, 8, 8, 6, 0], [39, 11, 10, 12, 11, 7, 9, 9, 8, 9, 11, 15, 15, 8, 13, 31, 9, 11, 10, 12, 10, 13, 10, 7, 8, 10, 9, 9, 8, 9, 9, 16, 6, 8, 6, 6, 0], [39, 11, 10, 12, 11, 7, 9, 9, 8, 9, 11, 15, 15, 8, 13, 31, 9, 11, 10, 12, 10, 13, 10, 7, 8, 10, 9, 9, 8, 9, 9, 16, 6, 8, 6, 6, 0, 0], [38, 12, 11, 13, 12, 6, 10, 8, 9, 10, 10, 16, 16, 9, 14, 30, 10, 12, 9, 13, 12, 12, 11, 8, 9, 9, 10, 8, 9, 8, 8, 15, 9, 9, 7, 7, 7, 7, 0], [38, 11, 11, 13, 12, 7, 10, 8, 9, 10, 12, 16, 16, 9, 14, 30, 10, 12, 11, 13, 12, 12, 11, 8, 9, 9, 10, 6, 9, 8, 8, 15, 9, 9, 7, 7, 7, 7, 6, 0], [38, 11, 11, 13, 12, 7, 10, 8, 9, 10, 12, 16, 16, 9, 14, 30, 10, 12, 11, 13, 12, 12, 11, 8, 9, 9, 10, 6, 9, 8, 8, 15, 9, 9, 7, 7, 7, 7, 6, 0, 0], [37, 11, 10, 12, 11, 7, 9, 9, 8, 9, 11, 15, 15, 8, 13, 31, 9, 11, 10, 10, 11, 13, 8, 7, 8, 9, 9, 9, 7, 9, 7, 14, 8, 8, 6, 4, 6, 6, 7, 7, 7, 0], [38, 11, 10, 12, 11, 7, 9, 9, 8, 9, 11, 15, 15, 8, 13, 31, 9, 11, 10, 12, 11, 13, 10, 7, 8, 10, 9, 9, 8, 9, 9, 16, 8, 8, 6, 6, 6, 6, 7, 7, 7, 6, 0], [38, 11, 10, 12, 10, 7, 9, 9, 8, 9, 11, 15, 15, 8, 13, 31, 9, 11, 10, 12, 11, 13, 10, 7, 8, 10, 9, 9, 8, 9, 9, 16, 8, 8, 6, 6, 6, 6, 7, 7, 7, 6, 6, 0], [37, 9, 9, 11, 10, 6, 8, 8, 7, 8, 10, 14, 14, 7, 12, 30, 8, 10, 9, 11, 10, 12, 9, 6, 7, 9, 8, 8, 7, 8, 8, 15, 7, 7, 5, 5, 5, 5, 6, 6, 6, 5, 5, 5, 0], [38, 10, 10, 12, 11, 7, 9, 9, 8, 9, 11, 15, 15, 8, 13, 31, 9, 11, 10, 12, 11, 13, 10, 7, 8, 10, 9, 9, 8, 9, 9, 16, 8, 8, 6, 6, 6, 6, 7, 7, 7, 6, 6, 6, 1, 0], [38, 10, 9, 13, 10, 8, 10, 8, 9, 10, 12, 16, 16, 9, 14, 30, 10, 12, 11, 11, 12, 12, 9, 8, 9, 9, 10, 8, 9, 8, 2, 11, 9, 9, 7, 5, 7, 7, 6, 6, 6, 5, 7, 7, 6, 7, 0], [38, 10, 9, 10, 10, 6, 8, 7, 7, 8, 10, 13, 12, 7, 10, 29, 8, 9, 9, 9, 10, 11, 7, 6, 7, 8, 8, 7, 7, 7, 5, 10, 7, 7, 5, 3, 5, 5, 5, 5, 5, 3, 5, 5, 4, 5, 3, 0], [37, 10, 9, 14, 10, 6, 11, 8, 10, 11, 10, 17, 17, 7, 15, 35, 11, 13, 9, 16, 12, 14, 13, 9, 7, 11, 13, 8, 9, 10, 11, 19, 9, 7, 7, 10, 7, 7, 11, 11, 11, 10, 10, 6, 6, 7, 8, 6, 0], [36, 10, 9, 23, 10, 6, 17, 6, 19, 18, 10, 26, 26, 7, 24, 44, 20, 22, 10, 27, 18, 18, 19, 12, 8, 15, 21, 6, 15, 14, 17, 28, 15, 7, 13, 17, 13, 13, 18, 18, 18, 21, 21, 21, 12, 13, 9, 7, 20, 0], [38, 10, 9, 11, 10, 6, 8, 8, 7, 8, 10, 14, 14, 7, 12, 30, 8, 10, 9, 11, 10, 12, 9, 6, 7, 9, 8, 8, 7, 8, 8, 14, 7, 7, 5, 5, 5, 5, 6, 6, 6, 5, 5, 5, 4, 5, 6, 4, 4, 4, 0], [38, 10, 9, 10, 10, 6, 8, 8, 7, 8, 10, 12, 11, 7, 9, 30, 8, 9, 9, 11, 10, 12, 9, 6, 7, 9, 8, 8, 7, 8, 8, 11, 7, 7, 5, 5, 5, 5, 6, 6, 6, 5, 5, 5, 4, 5, 6, 4, 4, 4, 4, 0], [38, 10, 9, 11, 10, 6, 8, 8, 7, 8, 10, 14, 14, 7, 12, 30, 8, 10, 9, 11, 10, 12, 9, 6, 7, 9, 8, 8, 7, 8, 8, 15, 7, 7, 5, 5, 5, 5, 6, 6, 6, 5, 5, 5, 4, 5, 6, 4, 6, 8, 4, 4, 0], [38, 10, 9, 11, 10, 6, 8, 8, 7, 8, 10, 14, 14, 7, 12, 30, 8, 10, 9, 9, 10, 12, 7, 6, 7, 9, 8, 8, 7, 8, 6, 13, 7, 7, 5, 3, 5, 5, 6, 6, 6, 3, 5, 5, 4, 5, 4, 2, 6, 13, 4, 4, 4, 0], [37, 10, 9, 11, 10, 6, 8, 8, 7, 8, 10, 14, 14, 7, 12, 30, 8, 10, 9, 11, 10, 8, 9, 6, 7, 9, 8, 8, 7, 8, 8, 15, 7, 7, 5, 5, 5, 5, 6, 6, 6, 5, 5, 5, 4, 5, 6, 4, 6, 12, 4, 4, 4, 4, 0], [37, 9, 9, 11, 10, 5, 8, 8, 7, 8, 10, 14, 14, 7, 12, 30, 8, 10, 9, 11, 10, 12, 9, 6, 7, 7, 8, 8, 5, 8, 8, 15, 7, 7, 5, 5, 5, 5, 6, 6, 6, 5, 5, 5, 4, 5, 6, 4, 6, 12, 4, 4, 4, 4, 4, 0], [37, 11, 10, 12, 11, 7, 9, 9, 8, 9, 11, 15, 15, 8, 13, 31, 9, 11, 10, 12, 11, 13, 10, 7, 8, 10, 9, 9, 8, 9, 9, 16, 8, 8, 6, 6, 6, 6, 5, 7, 7, 6, 6, 6, 5, 6, 7, 5, 7, 11, 5, 5, 5, 5, 5, 5, 0], [38, 11, 10, 12, 11, 7, 9, 7, 8, 9, 11, 15, 15, 8, 13, 29, 9, 11, 10, 12, 11, 11, 10, 7, 8, 8, 9, 7, 8, 7, 7, 13, 8, 8, 6, 6, 6, 6, 5, 5, 5, 6, 6, 6, 5, 6, 5, 4, 5, 8, 5, 5, 5, 5, 5, 5, 6, 0], [37, 10, 9, 11, 10, 6, 7, 8, 6, 7, 10, 14, 14, 7, 12, 30, 8, 10, 9, 11, 10, 12, 9, 6, 7, 9, 8, 8, 7, 8, 8, 14, 7, 7, 5, 5, 5, 5, 6, 6, 6, 5, 5, 5, 4, 5, 6, 4, 7, 14, 4, 4, 4, 4, 4, 4, 5, 5, 0], [37, 10, 9, 11, 10, 6, 8, 8, 7, 8, 10, 14, 14, 7, 12, 31, 8, 10, 10, 12, 11, 13, 10, 7, 8, 10, 9, 8, 8, 9, 9, 15, 8, 7, 6, 6, 6, 6, 7, 7, 7, 6, 6, 6, 5, 6, 7, 5, 7, 11, 4, 5, 5, 5, 5, 5, 6, 6, 4, 0], [36, 10, 9, 11, 10, 6, 8, 8, 7, 8, 10, 14, 14, 7, 12, 30, 8, 10, 9, 11, 10, 12, 9, 6, 7, 9, 8, 8, 7, 8, 8, 15, 7, 7, 5, 5, 5, 5, 6, 6, 6, 5, 5, 5, 4, 5, 6, 4, 6, 12, 4, 4, 4, 4, 4, 4, 5, 5, 4, 5, 0], [37, 10, 9, 11, 10, 6, 7, 7, 7, 8, 10, 14, 14, 7, 12, 30, 8, 10, 9, 11, 10, 12, 9, 6, 7, 9, 8, 8, 7, 8, 8, 15, 7, 7, 5, 5, 5, 5, 6, 6, 6, 5, 5, 5, 4, 5, 6, 4, 9, 20, 4, 4, 4, 4, 4, 4, 5, 5, 4, 5, 4, 0], [36, 9, 8, 10, 9, 5, 7, 5, 6, 7, 9, 13, 13, 6, 11, 27, 7, 9, 8, 10, 9, 9, 8, 5, 6, 6, 7, 5, 6, 5, 5, 12, 6, 6, 4, 4, 4, 4, 3, 3, 3, 4, 4, 4, 3, 4, 3, 2, 5, 9, 3, 3, 3, 3, 3, 3, 4, 2, 3, 4, 3, 3, 0], [37, 10, 9, 11, 10, 6, 8, 6, 7, 8, 10, 12, 14, 7, 12, 28, 8, 10, 9, 11, 10, 10, 9, 6, 7, 7, 8, 6, 7, 6, 6, 13, 7, 7, 5, 5, 5, 5, 4, 4, 4, 5, 5, 5, 4, 5, 4, 3, 9, 16, 4, 4, 4, 4, 4, 4, 5, 3, 4, 5, 4, 4, 1, 0], [37, 10, 9, 11, 10, 6, 8, 6, 7, 8, 10, 12, 14, 7, 12, 28, 8, 10, 9, 11, 10, 10, 9, 6, 7, 7, 8, 6, 7, 6, 6, 12, 7, 7, 5, 5, 5, 5, 4, 4, 4, 5, 5, 5, 4, 5, 4, 3, 7, 9, 4, 4, 4, 4, 4, 4, 5, 3, 4, 4, 4, 4, 1, 0, 0], [36, 9, 8, 22, 9, 5, 13, 5, 18, 13, 9, 25, 25, 6, 23, 50, 19, 21, 16, 33, 20, 20, 21, 16, 13, 17, 22, 5, 17, 16, 21, 33, 17, 9, 15, 18, 15, 15, 26, 20, 20, 27, 27, 27, 14, 15, 14, 13, 20, 29, 6, 6, 14, 14, 14, 14, 15, 10, 9, 9, 14, 26, 11, 18, 3, 0], [37, 10, 9, 10, 10, 6, 8, 6, 7, 8, 10, 11, 10, 7, 9, 28, 8, 9, 9, 9, 10, 10, 7, 6, 7, 7, 8, 6, 7, 6, 4, 4, 7, 7, 5, 3, 5, 5, 4, 4, 4, 3, 5, 5, 4, 5, 2, 1, 4, 2, 4, 4, 4, 2, 4, 4, 5, 3, 4, 4, 4, 4, 1, 2, 2, 1, 0], [37, 9, 8, 10, 9, 5, 7, 7, 6, 7, 9, 13, 13, 6, 11, 30, 7, 9, 9, 11, 10, 12, 9, 6, 7, 9, 8, 7, 7, 8, 8, 15, 7, 7, 5, 5, 5, 5, 6, 6, 6, 5, 5, 5, 4, 5, 6, 4, 9, 18, 4, 4, 4, 4, 4, 4, 5, 5, 4, 5, 4, 4, 3, 4, 4, 20, 3, 0], [37, 9, 8, 10, 9, 5, 7, 7, 6, 7, 9, 13, 13, 6, 11, 29, 7, 9, 8, 10, 9, 11, 8, 5, 6, 8, 7, 7, 6, 7, 7, 14, 6, 6, 4, 4, 4, 4, 5, 5, 5, 4, 4, 4, 3, 4, 5, 3, 8, 17, 3, 3, 3, 3, 3, 3, 4, 4, 3, 4, 3, 3, 2, 3, 3, 19, 3, 1, 0], [37, 10, 9, 10, 10, 6, 8, 8, 7, 8, 10, 11, 10, 7, 9, 30, 8, 9, 9, 11, 10, 12, 9, 6, 7, 9, 8, 8, 7, 8, 8, 10, 7, 7, 5, 5, 5, 5, 6, 6, 6, 5, 5, 5, 4, 5, 6, 4, 4, 4, 4, 4, 4, 4, 4, 4, 5, 5, 4, 4, 4, 4, 3, 4, 4, 3, 4, 3, 3, 0], [36, 9, 8, 9, 9, 5, 7, 7, 6, 7, 9, 10, 9, 6, 8, 29, 7, 8, 8, 10, 8, 11, 8, 5, 6, 8, 7, 7, 6, 7, 7, 9, 4, 6, 4, 4, 4, 4, 5, 5, 5, 4, 4, 4, 3, 4, 5, 3, 3, 3, 3, 3, 3, 3, 3, 3, 4, 4, 3, 3, 3, 3, 2, 3, 3, 4, 3, 3, 2, 3, 0], [38, 10, 9, 11, 10, 6, 8, 8, 7, 8, 10, 14, 13, 7, 12, 30, 8, 10, 9, 11, 10, 12, 9, 6, 7, 9, 8, 8, 7, 8, 8, 12, 7, 7, 5, 5, 5, 5, 6, 6, 6, 5, 5, 5, 4, 5, 6, 4, 7, 16, 4, 4, 4, 4, 4, 4, 5, 5, 4, 4, 4, 4, 3, 4, 4, 15, 4, 3, 3, 4, 3, 0], [36, 9, 8, 9, 9, 5, 7, 7, 6, 7, 9, 10, 9, 6, 8, 30, 7, 8, 8, 11, 10, 12, 9, 5, 6, 9, 8, 7, 7, 8, 7, 10, 7, 6, 5, 5, 5, 5, 6, 6, 6, 5, 5, 5, 4, 5, 6, 4, 4, 6, 3, 3, 4, 4, 4, 4, 5, 4, 3, 4, 2, 4, 3, 4, 3, 13, 3, 4, 3, 3, 2, 3, 0], [37, 9, 8, 10, 9, 5, 7, 6, 6, 7, 9, 13, 12, 6, 11, 29, 7, 9, 8, 10, 9, 11, 8, 5, 6, 8, 7, 7, 6, 7, 7, 13, 6, 6, 4, 4, 4, 4, 5, 5, 5, 4, 4, 4, 3, 4, 5, 3, 3, 3, 3, 3, 3, 3, 3, 3, 4, 4, 3, 3, 3, 3, 2, 3, 3, 5, 3, 3, 2, 3, 2, 3, 2, 0], [36, 9, 8, 10, 9, 5, 7, 7, 6, 7, 9, 13, 13, 6, 11, 29, 7, 9, 8, 10, 9, 11, 8, 5, 6, 8, 7, 7, 6, 7, 7, 14, 6, 6, 4, 4, 4, 4, 5, 5, 5, 4, 4, 4, 3, 4, 5, 3, 5, 11, 3, 3, 3, 3, 3, 3, 4, 4, 3, 4, 3, 3, 2, 3, 3, 13, 3, 3, 2, 3, 2, 2, 3, 2, 0], [37, 9, 8, 10, 9, 5, 7, 7, 6, 7, 9, 13, 13, 6, 11, 29, 7, 9, 8, 10, 9, 11, 8, 3, 4, 8, 7, 7, 6, 7, 7, 14, 6, 4, 4, 4, 4, 4, 5, 5, 5, 4, 4, 4, 3, 4, 5, 3, 5, 11, 3, 3, 3, 3, 3, 3, 4, 4, 3, 4, 3, 3, 2, 3, 3, 13, 3, 3, 2, 3, 2, 3, 3, 2, 2, 0], [36, 9, 8, 10, 9, 5, 7, 7, 6, 7, 9, 13, 13, 6, 11, 29, 7, 9, 8, 10, 9, 11, 8, 5, 6, 8, 7, 7, 6, 7, 7, 14, 6, 6, 4, 4, 4, 4, 5, 5, 5, 4, 4, 4, 3, 4, 5, 3, 5, 12, 3, 3, 3, 3, 3, 3, 4, 4, 3, 4, 3, 3, 2, 3, 3, 13, 3, 3, 2, 3, 2, 3, 3, 2, 2, 2, 0], [36, 9, 8, 10, 9, 5, 7, 7, 6, 7, 9, 13, 13, 6, 11, 29, 7, 9, 8, 10, 9, 11, 8, 5, 6, 8, 7, 7, 6, 7, 7, 14, 6, 6, 4, 4, 4, 4, 5, 5, 5, 4, 4, 4, 3, 4, 5, 3, 5, 11, 3, 3, 3, 3, 3, 3, 4, 4, 3, 4, 3, 3, 2, 3, 3, 13, 3, 3, 2, 1, 2, 3, 3, 2, 2, 2, 2, 0], [37, 9, 8, 10, 9, 5, 7, 7, 6, 7, 9, 13, 13, 6, 11, 29, 7, 9, 8, 10, 9, 11, 8, 5, 6, 8, 7, 7, 6, 7, 7, 14, 6, 6, 4, 4, 4, 4, 5, 5, 5, 4, 4, 4, 3, 4, 5, 3, 5, 11, 3, 3, 3, 3, 3, 3, 4, 4, 3, 4, 3, 3, 2, 3, 3, 13, 3, 3, 2, 3, 2, 3, 3, 2, 2, 2, 2, 2, 0], [37, 9, 8, 10, 9, 5, 7, 7, 6, 7, 9, 13, 13, 6, 11, 29, 7, 9, 8, 10, 9, 11, 8, 5, 4, 8, 7, 7, 6, 7, 7, 14, 6, 6, 4, 4, 4, 4, 5, 5, 5, 4, 4, 4, 3, 4, 5, 3, 8, 19, 3, 3, 3, 3, 3, 3, 4, 4, 3, 4, 3, 3, 2, 3, 3, 25, 3, 3, 2, 3, 2, 3, 3, 2, 2, 2, 2, 2, 2, 0], [37, 9, 8, 10, 9, 5, 7, 7, 6, 7, 9, 13, 13, 6, 11, 29, 7, 9, 8, 10, 9, 11, 8, 5, 6, 8, 7, 7, 6, 7, 7, 14, 6, 6, 4, 4, 4, 4, 5, 5, 5, 4, 4, 4, 3, 4, 5, 3, 8, 17, 3, 3, 3, 3, 3, 3, 4, 4, 3, 4, 3, 3, 2, 3, 3, 19, 3, 3, 2, 3, 2, 3, 3, 2, 2, 2, 2, 2, 2, 2, 0], [37, 9, 8, 10, 9, 5, 7, 7, 6, 7, 9, 13, 13, 6, 11, 29, 7, 9, 8, 10, 9, 11, 8, 5, 6, 8, 7, 7, 6, 7, 7, 13, 6, 6, 4, 4, 4, 4, 5, 5, 5, 4, 4, 4, 3, 4, 5, 3, 7, 15, 3, 3, 3, 3, 3, 3, 4, 4, 3, 4, 3, 3, 2, 3, 3, 18, 3, 3, 2, 3, 2, 3, 2, 2, 2, 2, 2, 2, 2, 2, 0, 0], [37, 9, 8, 10, 9, 5, 7, 7, 6, 7, 9, 13, 13, 6, 11, 29, 7, 9, 8, 10, 9, 11, 8, 5, 6, 8, 7, 7, 6, 7, 7, 14, 6, 6, 4, 4, 4, 4, 5, 5, 5, 4, 4, 4, 3, 4, 5, 3, 5, 11, 3, 3, 3, 3, 3, 3, 4, 4, 3, 4, 3, 3, 2, 3, 3, 13, 3, 3, 2, 3, 2, 3, 3, 2, 2, 2, 2, 2, 2, 2, 2, 2, 0], [37, 9, 8, 10, 9, 5, 7, 7, 6, 7, 9, 13, 13, 6, 11, 29, 7, 9, 8, 10, 9, 11, 8, 5, 6, 8, 7, 7, 6, 7, 7, 14, 6, 6, 4, 4, 4, 4, 5, 5, 5, 4, 4, 4, 3, 4, 5, 3, 5, 11, 3, 3, 3, 3, 3, 3, 4, 4, 3, 4, 3, 3, 2, 3, 3, 13, 3, 3, 2, 3, 2, 3, 3, 2, 2, 2, 2, 2, 2, 2, 2, 2, 2, 0], [36, 9, 8, 10, 9, 5, 7, 7, 6, 7, 9, 13, 13, 6, 11, 29, 7, 9, 8, 10, 9, 11, 8, 5, 6, 8, 7, 7, 6, 7, 7, 14, 6, 6, 4, 4, 4, 4, 3, 5, 5, 4, 4, 4, 3, 4, 5, 3, 5, 9, 3, 3, 3, 3, 3, 3, 2, 4, 3, 4, 3, 3, 2, 3, 3, 13, 3, 3, 2, 3, 2, 3, 3, 2, 2, 2, 2, 2, 2, 2, 2, 2, 2, 2, 0], [37, 9, 8, 10, 9, 5, 7, 7, 6, 7, 9, 13, 13, 6, 11, 29, 7, 9, 8, 10, 9, 11, 8, 5, 6, 8, 7, 7, 6, 7, 7, 14, 6, 6, 4, 4, 4, 4, 5, 5, 5, 4, 4, 4, 3, 4, 5, 3, 5, 11, 3, 3, 3, 3, 3, 3, 4, 4, 3, 4, 3, 3, 2, 3, 3, 13, 3, 3, 2, 3, 2, 3, 3, 2, 2, 2, 2, 2, 2, 2, 2, 2, 2, 2, 2, 0], [36, 8, 7, 9, 8, 4, 6, 6, 5, 6, 8, 12, 12, 5, 10, 28, 6, 8, 7, 9, 8, 10, 7, 4, 5, 7, 6, 6, 5, 6, 6, 13, 5, 5, 3, 3, 3, 3, 4, 4, 4, 3, 3, 3, 2, 3, 4, 2, 4, 10, 2, 2, 2, 2, 2, 2, 3, 3, 2, 3, 2, 2, 1, 2, 2, 12, 2, 2, 1, 2, 1, 1, 2, 1, 1, 1, 1, 1, 1, 1, 1, 1, 1, 1, 1, 1, 0], [36, 8, 7, 9, 8, 4, 6, 6, 5, 6, 8, 12, 12, 5, 10, 28, 6, 8, 7, 9, 8, 10, 7, 4, 5, 7, 6, 6, 5, 6, 6, 12, 5, 5, 3, 3, 3, 3, 4, 4, 4, 3, 3, 3, 2, 3, 4, 2, 5, 11, 2, 2, 2, 2, 2, 2, 3, 3, 2, 2, 2, 2, 1, 2, 2, 5, 2, 2, 1, 2, 1, 2, 1, 1, 1, 1, 1, 1, 1, 1, 1, 1, 1, 1, 1, 1, 0, 0], [36, 8, 7, 9, 8, 4, 6, 6, 5, 6, 8, 12, 12, 5, 10, 28, 6, 8, 7, 9, 8, 10, 7, 4, 5, 7, 6, 6, 5, 6, 6, 12, 5, 5, 3, 3, 3, 3, 4, 4, 4, 3, 3, 3, 2, 3, 4, 2, 5, 10, 2, 2, 2, 2, 2, 2, 3, 3, 2, 2, 2, 2, 1, 2, 2, 4, 2, 2, 1, 2, 1, 2, 1, 1, 1, 1, 1, 1, 1, 1, 1, 1, 1, 1, 1, 1, 0, 0, 0], [36, 8, 7, 9, 8, 4, 6, 6, 5, 6, 8, 12, 12, 5, 10, 28, 6, 8, 7, 9, 8, 10, 7, 4, 5, 7, 6, 6, 5, 6, 6, 13, 5, 5, 3, 3, 3, 3, 4, 4, 4, 3, 3, 3, 2, 3, 4, 2, 7, 15, 2, 2, 2, 2, 2, 2, 3, 3, 2, 3, 2, 2, 1, 2, 2, 17, 2, 2, 1, 2, 1, 2, 2, 1, 1, 1, 1, 1, 1, 1, 1, 1, 1, 1, 1, 1, 0, 0, 0, 0], [36, 8, 7, 9, 8, 4, 6, 6, 5, 6, 8, 12, 12, 5, 10, 28, 6, 8, 7, 9, 8, 10, 7, 4, 5, 7, 6, 6, 5, 6, 6, 13, 5, 5, 3, 3, 3, 3, 4, 4, 4, 3, 3, 3, 2, 3, 4, 2, 7, 18, 2, 2, 2, 2, 2, 2, 3, 3, 2, 3, 2, 2, 1, 2, 2, 24, 2, 2, 1, 2, 1, 2, 2, 1, 1, 1, 1, 1, 1, 1, 1, 1, 1, 1, 1, 1, 0, 0, 0, 0, 0], [36, 8, 7, 9, 8, 4, 6, 6, 5, 6, 8, 12, 12, 5, 10, 28, 6, 8, 7, 9, 8, 10, 7, 4, 5, 7, 6, 6, 5, 6, 6, 13, 5, 5, 3, 3, 3, 3, 4, 4, 4, 3, 3, 3, 2, 3, 4, 2, 7, 16, 2, 2, 2, 2, 2, 2, 3, 3, 2, 3, 2, 2, 1, 2, 2, 18, 2, 2, 1, 2, 1, 2, 2, 1, 1, 1, 1, 1, 1, 1, 1, 1, 1, 1, 1, 1, 0, 0, 0, 0, 0, 0], [36, 8, 7, 9, 8, 4, 6, 6, 5, 6, 8, 12, 12, 5, 10, 28, 6, 8, 7, 9, 8, 10, 7, 4, 5, 7, 6, 6, 5, 6, 6, 12, 5, 5, 3, 3, 3, 3, 4, 4, 4, 3, 3, 3, 2, 3, 4, 2, 2, 2, 2, 2, 2, 2, 2, 2, 3, 3, 2, 3, 2, 2, 1, 2, 2, 4, 2, 2, 1, 2, 1, 2, 1, 1, 1, 1, 1, 1, 1, 1, 1, 1, 1, 1, 1, 1, 0, 0, 0, 0, 0, 0, 0], [36, 8, 7, 8, 8, 4, 6, 6, 5, 6, 8, 11, 11, 5, 9, 28, 6, 7, 7, 9, 8, 10, 7, 4, 5, 7, 6, 6, 5, 6, 6, 11, 5, 5, 3, 3, 3, 3, 4, 4, 4, 3, 3, 3, 2, 3, 4, 2, 2, 2, 2, 2, 2, 2, 2, 2, 3, 3, 2, 2, 2, 2, 1, 2, 2, 4, 2, 2, 1, 2, 1, 2, 1, 1, 1, 1, 1, 1, 1, 1, 1, 1, 1, 1, 1, 1, 0, 0, 0, 0, 0, 0, 0, 0], [36, 8, 7, 9, 8, 4, 6, 6, 5, 6, 8, 12, 12, 5, 10, 28, 6, 8, 7, 9, 8, 10, 7, 4, 5, 7, 6, 6, 5, 6, 6, 12, 5, 5, 3, 3, 3, 3, 4, 4, 4, 3, 3, 3, 2, 3, 4, 2, 3, 9, 2, 2, 2, 2, 2, 2, 3, 3, 2, 3, 2, 2, 1, 2, 2, 11, 2, 2, 1, 2, 1, 2, 1, 1, 1, 1, 1, 1, 1, 1, 1, 1, 1, 1, 1, 1, 0, 0, 0, 0, 0, 0, 0, 0, 0], [36, 8, 7, 9, 8, 4, 6, 6, 5, 6, 8, 12, 12, 5, 10, 28, 6, 8, 7, 9, 8, 10, 7, 4, 5, 7, 6, 6, 5, 6, 6, 12, 5, 5, 3, 3, 3, 3, 4, 4, 4, 3, 3, 3, 2, 3, 4, 2, 3, 9, 2, 2, 2, 2, 2, 2, 3, 3, 2, 3, 2, 2, 1, 2, 2, 11, 2, 2, 1, 2, 1, 2, 1, 1, 1, 1, 1, 1, 1, 1, 1, 1, 1, 1, 1, 1, 0, 0, 0, 0, 0, 0, 0, 0, 0, 0], [36, 8, 7, 9, 8, 4, 6, 6, 5, 6, 8, 12, 12, 5, 10, 28, 6, 8, 7, 9, 8, 10, 7, 4, 5, 7, 6, 6, 5, 6, 6, 13, 5, 5, 3, 3, 3, 3, 4, 4, 4, 3, 3, 3, 2, 3, 4, 2, 4, 10, 2, 2, 2, 2, 2, 2, 3, 3, 2, 3, 2, 2, 1, 2, 2, 12, 2, 2, 1, 2, 1, 2, 2, 1, 1, 1, 1, 1, 1, 1, 1, 1, 1, 1, 1, 1, 0, 0, 0, 0, 0, 0, 0, 0, 0, 0, 0], [36, 8, 7, 9, 8, 4, 6, 6, 5, 6, 8, 12, 12, 5, 10, 28, 6, 8, 7, 9, 8, 10, 7, 4, 5, 7, 6, 6, 5, 6, 6, 13, 5, 5, 3, 3, 3, 3, 4, 4, 4, 3, 3, 3, 2, 3, 4, 2, 4, 10, 2, 2, 2, 2, 2, 2, 3, 3, 2, 3, 2, 2, 1, 2, 2, 12, 2, 2, 1, 2, 1, 2, 2, 1, 1, 1, 1, 1, 1, 1, 1, 1, 1, 1, 1, 1, 0, 0, 0, 0, 0, 0, 0, 0, 0, 0, 0, 0], [36, 8, 7, 9, 8, 4, 6, 6, 5, 6, 8, 12, 12, 5, 10, 28, 6, 8, 7, 9, 8, 10, 7, 4, 5, 7, 6, 6, 5, 6, 6, 13, 5, 5, 3, 3, 3, 3, 4, 4, 4, 3, 3, 3, 2, 3, 4, 2, 4, 10, 2, 2, 2, 2, 2, 2, 3, 3, 2, 3, 2, 2, 1, 2, 2, 12, 2, 2, 1, 2, 1, 2, 2, 1, 1, 1, 1, 1, 1, 1, 1, 1, 1, 1, 1, 1, 0, 0, 0, 0, 0, 0, 0, 0, 0, 0, 0, 0, 0], [36, 8, 7, 8, 8, 4, 6, 6, 5, 6, 8, 9, 8, 5, 7, 28, 6, 7, 7, 9, 8, 10, 7, 4, 5, 7, 6, 6, 5, 6, 6, 8, 5, 5, 3, 3, 3, 3, 4, 4, 4, 3, 3, 3, 2, 3, 4, 2, 3, 3, 2, 2, 2, 2, 2, 2, 3, 3, 2, 3, 2, 2, 1, 2, 2, 10, 2, 2, 1, 2, 1, 2, 1, 1, 1, 1, 1, 1, 1, 1, 1, 1, 1, 1, 1, 1, 0, 0, 0, 0, 0, 0, 0, 0, 0, 0, 0, 0, 0, 0], [36, 8, 7, 9, 8, 4, 6, 6, 5, 6, 8, 12, 12, 5, 10, 28, 6, 8, 7, 9, 8, 10, 7, 4, 5, 7, 6, 6, 5, 6, 6, 13, 5, 5, 3, 3, 3, 3, 4, 4, 4, 3, 3, 3, 2, 3, 4, 2, 4, 10, 2, 2, 2, 2, 2, 2, 3, 3, 2, 3, 2, 2, 1, 2, 2, 12, 2, 2, 1, 2, 1, 2, 2, 1, 1, 1, 1, 1, 1, 1, 1, 1, 1, 1, 1, 1, 0, 0, 0, 0, 0, 0, 0, 0, 0, 0, 0, 0, 0, 0, 0], [36, 8, 7, 9, 8, 4, 6, 6, 5, 6, 8, 12, 12, 5, 10, 28, 6, 8, 7, 9, 8, 10, 7, 4, 5, 7, 6, 6, 5, 6, 6, 13, 5, 5, 3, 3, 3, 3, 4, 4, 4, 3, 3, 3, 2, 3, 4, 2, 4, 10, 2, 2, 2, 2, 2, 2, 3, 3, 2, 3, 2, 2, 1, 2, 2, 12, 2, 2, 1, 2, 1, 2, 2, 1, 1, 1, 1, 1, 1, 1, 1, 1, 1, 1, 1, 1, 0, 0, 0, 0, 0, 0, 0, 0, 0, 0, 0, 0, 0, 0, 0, 0], [36, 8, 7, 9, 8, 4, 6, 6, 5, 6, 8, 12, 12, 5, 10, 28, 6, 8, 7, 9, 8, 10, 7, 4, 5, 7, 6, 6, 5, 6, 6, 13, 5, 5, 3, 3, 3, 3, 4, 4, 4, 3, 3, 3, 2, 3, 4, 2, 4, 10, 2, 2, 2, 2, 2, 2, 3, 3, 2, 3, 2, 2, 1, 2, 2, 12, 2, 2, 1, 2, 1, 2, 2, 1, 1, 1, 1, 1, 1, 1, 1, 1, 1, 1, 1, 1, 0, 0, 0, 0, 0, 0, 0, 0, 0, 0, 0, 0, 0, 0, 0, 0, 0], [36, 8, 7, 9, 8, 4, 6, 6, 5, 6, 8, 12, 12, 5, 10, 28, 6, 8, 7, 9, 8, 10, 7, 4, 5, 7, 6, 6, 5, 6, 6, 13, 5, 5, 3, 3, 3, 3, 4, 4, 4, 3, 3, 3, 2, 3, 4, 2, 4, 10, 2, 2, 2, 2, 2, 2, 3, 3, 2, 3, 2, 2, 1, 2, 2, 12, 2, 2, 1, 2, 1, 2, 2, 1, 1, 1, 1, 1, 1, 1, 1, 1, 1, 1, 1, 1, 0, 0, 0, 0, 0, 0, 0, 0, 0, 0, 0, 0, 0, 0, 0, 0, 0, 0], [36, 8, 7, 9, 8, 4, 6, 6, 5, 6, 8, 12, 12, 5, 10, 28, 6, 8, 7, 9, 8, 10, 7, 4, 5, 7, 6, 6, 5, 6, 6, 13, 5, 5, 3, 3, 3, 3, 4, 4, 4, 3, 3, 3, 2, 3, 4, 2, 4, 10, 2, 2, 2, 2, 2, 2, 3, 3, 2, 3, 2, 2, 1, 2, 2, 12, 2, 2, 1, 2, 1, 2, 2, 1, 1, 1, 1, 1, 1, 1, 1, 1, 1, 1, 1, 1, 0, 0, 0, 0, 0, 0, 0, 0, 0, 0, 0, 0, 0, 0, 0, 0, 0, 0, 0], [37, 9, 8, 10, 9, 5, 7, 7, 6, 7, 9, 13, 13, 6, 11, 29, 7, 9, 8, 10, 9, 11, 8, 5, 6, 8, 7, 7, 6, 7, 7, 14, 6, 6, 4, 4, 4, 4, 5, 5, 5, 4, 4, 4, 3, 4, 5, 3, 5, 11, 3, 3, 3, 3, 3, 3, 4, 4, 3, 4, 3, 3, 2, 3, 3, 13, 3, 3, 2, 3, 2, 3, 3, 2, 2, 2, 2, 2, 2, 2, 2, 2, 2, 2, 2, 2, 1, 1, 1, 1, 1, 1, 1, 1, 1, 1, 1, 1, 1, 1, 1, 1, 1, 1, 1, 0], [41, 11, 10, 12, 11, 11, 9, 13, 8, 9, 15, 15, 14, 8, 13, 31, 9, 11, 14, 16, 8, 17, 14, 11, 12, 14, 13, 13, 12, 13, 13, 20, 10, 12, 10, 10, 10, 10, 11, 11, 11, 10, 10, 10, 9, 10, 11, 9, 11, 17, 9, 9, 9, 9, 9, 9, 10, 10, 9, 10, 9, 9, 8, 9, 9, 19, 9, 9, 8, 9, 6, 9, 9, 8, 8, 8, 8, 8, 8, 8, 8, 8, 8, 8, 8, 8, 7, 7, 7, 7, 7, 7, 7, 7, 7, 7, 7, 7, 7, 7, 7, 7, 7, 7, 7, 8, 0], [41, 11, 10, 12, 11, 11, 9, 13, 8, 9, 15, 15, 15, 8, 13, 31, 9, 11, 14, 16, 10, 17, 14, 11, 12, 14, 13, 13, 12, 13, 13, 20, 10, 12, 10, 10, 10, 10, 11, 11, 11, 10, 10, 10, 9, 10, 11, 9, 11, 17, 9, 9, 9, 9, 9, 9, 10, 10, 9, 10, 9, 9, 8, 9, 9, 19, 9, 9, 8, 9, 6, 9, 9, 8, 8, 8, 8, 8, 8, 8, 8, 8, 8, 8, 8, 8, 7, 7, 7, 7, 7, 7, 7, 7, 7, 7, 7, 7, 7, 7, 7, 7, 7, 7, 7, 8, 4, 0], [40, 11, 10, 12, 11, 11, 9, 13, 8, 9, 15, 15, 15, 8, 13, 31, 9, 11, 14, 16, 10, 17, 14, 11, 12, 14, 13, 13, 12, 13, 13, 20, 10, 12, 10, 10, 10, 10, 11, 11, 11, 10, 10, 10, 9, 10, 11, 9, 13, 18, 9, 9, 9, 9, 9, 9, 10, 10, 9, 10, 9, 9, 8, 9, 9, 21, 9, 9, 8, 9, 6, 9, 9, 8, 8, 8, 8, 8, 8, 8, 8, 8, 8, 8, 8, 8, 7, 7, 7, 7, 7, 7, 7, 7, 7, 7, 7, 7, 7, 7, 7, 7, 7, 7, 7, 8, 4, 4, 0], [42, 1, 0, 11, 1, 11, 9, 13, 8, 9, 15, 12, 11, 8, 10, 31, 9, 10, 14, 16, 13, 17, 14, 11, 12, 14, 13, 13, 12, 13, 11, 11, 12, 12, 10, 10, 10, 10, 11, 11, 11, 10, 10, 10, 9, 10, 9, 9, 9, 9, 9, 9, 9, 9, 9, 9, 10, 10, 9, 9, 9, 9, 8, 9, 9, 8, 9, 8, 8, 9, 8, 9, 8, 8, 8, 8, 8, 8, 8, 8, 8, 8, 8, 8, 8, 8, 7, 7, 7, 7, 7, 7, 7, 7, 7, 7, 7, 7, 7, 7, 7, 7, 7, 7, 7, 8, 10, 10, 10, 0], [42, 1, 0, 11, 1, 11, 9, 13, 8, 9, 15, 12, 11, 8, 10, 31, 9, 10, 14, 16, 13, 17, 14, 11, 12, 14, 13, 13, 12, 13, 11, 11, 12, 12, 10, 10, 10, 10, 11, 11, 11, 10, 10, 10, 9, 10, 9, 9, 9, 9, 9, 9, 9, 9, 9, 9, 10, 10, 9, 9, 9, 9, 8, 9, 9, 8, 9, 8, 8, 9, 8, 9, 8, 8, 8, 8, 8, 8, 8, 8, 8, 8, 8, 8, 8, 8, 7, 7, 7, 7, 7, 7, 7, 7, 7, 7, 7, 7, 7, 7, 7, 7, 7, 7, 7, 8, 10, 10, 10, 0, 0], [42, 1, 0, 11, 1, 11, 9, 13, 8, 9, 15, 12, 11, 8, 10, 31, 9, 10, 14, 16, 13, 17, 14, 11, 12, 14, 13, 13, 12, 13, 11, 11, 12, 12, 10, 10, 10, 10, 11, 11, 11, 10, 10, 10, 9, 10, 9, 9, 9, 9, 9, 9, 9, 9, 9, 9, 10, 10, 9, 9, 9, 9, 8, 9, 9, 8, 9, 8, 8, 9, 8, 9, 8, 8, 8, 8, 8, 8, 8, 8, 8, 8, 8, 8, 8, 8, 7, 7, 7, 7, 7, 7, 7, 7, 7, 7, 7, 7, 7, 7, 7, 7, 7, 7, 7, 8, 10, 10, 10, 0, 0, 0], [40, 11, 10, 12, 11, 11, 9, 13, 8, 9, 15, 15, 15, 8, 13, 31, 9, 11, 14, 16, 13, 17, 14, 11, 12, 14, 13, 13, 12, 13, 13, 20, 12, 12, 10, 10, 10, 10, 11, 11, 11, 10, 10, 10, 9, 10, 11, 9, 11, 17, 9, 9, 9, 9, 9, 9, 10, 10, 9, 10, 9, 9, 8, 9, 9, 19, 9, 9, 8, 9, 8, 9, 9, 8, 8, 8, 8, 8, 8, 8, 8, 8, 8, 8, 8, 8, 7, 7, 7, 7, 7, 7, 7, 7, 7, 7, 7, 7, 7, 7, 7, 7, 7, 7, 7, 8, 10, 10, 10, 10, 10, 10, 0], [40, 10, 9, 11, 10, 10, 8, 12, 7, 8, 14, 14, 14, 7, 12, 30, 8, 10, 13, 15, 12, 16, 13, 10, 11, 13, 12, 12, 11, 12, 12, 18, 11, 11, 9, 9, 9, 9, 10, 10, 10, 9, 9, 9, 8, 9, 10, 8, 8, 8, 8, 8, 8, 8, 8, 8, 9, 9, 8, 8, 8, 8, 7, 8, 8, 7, 8, 8, 7, 8, 7, 8, 7, 7, 7, 7, 7, 7, 7, 7, 7, 7, 7, 7, 7, 7, 6, 6, 6, 6, 6, 6, 6, 6, 6, 6, 6, 6, 6, 6, 6, 6, 6, 6, 6, 7, 9, 9, 9, 9, 9, 9, 9, 0], [39, 8, 7, 29, 8, 8, 15, 10, 25, 18, 12, 32, 32, 5, 30, 45, 26, 27, 12, 34, 18, 22, 20, 15, 12, 19, 21, 10, 15, 18, 26, 37, 17, 9, 15, 17, 15, 15, 29, 21, 21, 28, 24, 28, 14, 15, 11, 7, 19, 24, 6, 6, 7, 14, 14, 14, 15, 14, 18, 15, 14, 27, 13, 19, 14, 37, 6, 19, 18, 6, 5, 22, 5, 6, 13, 13, 13, 13, 13, 22, 18, 17, 13, 13, 13, 13, 12, 14, 13, 16, 25, 17, 4, 4, 11, 11, 12, 12, 12, 4, 12, 12, 12, 12, 12, 13, 15, 15, 21, 7, 7, 7, 15, 6, 0], [40, 9, 8, 9, 9, 9, 6, 9, 5, 6, 13, 13, 12, 5, 10, 28, 7, 9, 12, 14, 11, 14, 12, 9, 10, 11, 11, 10, 10, 10, 10, 17, 10, 10, 8, 8, 8, 8, 8, 8, 8, 8, 8, 8, 7, 8, 8, 6, 12, 22, 7, 7, 7, 7, 7, 7, 8, 7, 7, 8, 7, 7, 5, 6, 6, 28, 6, 7, 6, 7, 6, 7, 7, 6, 6, 6, 6, 6, 6, 6, 6, 6, 6, 6, 6, 6, 5, 5, 5, 5, 5, 5, 5, 5, 5, 5, 5, 5, 5, 5, 5, 5, 5, 5, 5, 6, 8, 8, 8, 8, 8, 8, 8, 7, 26, 0], [40, 7, 7, 9, 8, 8, 6, 10, 5, 6, 12, 12, 12, 5, 10, 28, 6, 8, 11, 13, 10, 14, 11, 8, 9, 11, 10, 10, 9, 10, 10, 17, 9, 9, 7, 7, 7, 7, 8, 8, 8, 7, 7, 7, 6, 7, 8, 6, 11, 22, 6, 6, 6, 6, 6, 6, 7, 7, 6, 7, 6, 6, 5, 6, 6, 28, 6, 6, 5, 6, 5, 6, 6, 5, 5, 5, 5, 5, 5, 5, 5, 5, 5, 5, 5, 5, 4, 4, 4, 4, 4, 4, 4, 4, 4, 4, 4, 4, 4, 4, 4, 4, 4, 4, 4, 5, 7, 7, 7, 7, 7, 7, 7, 6, 25, 5, 0], [40, 7, 7, 9, 8, 8, 6, 10, 5, 6, 12, 12, 12, 5, 10, 28, 6, 8, 11, 13, 10, 14, 11, 8, 9, 11, 10, 10, 9, 10, 10, 17, 9, 9, 7, 7, 7, 7, 8, 8, 8, 7, 7, 7, 6, 7, 8, 6, 11, 22, 6, 6, 6, 6, 6, 6, 7, 7, 6, 7, 6, 6, 5, 6, 6, 28, 6, 6, 5, 6, 5, 6, 6, 5, 5, 5, 5, 5, 5, 5, 5, 5, 5, 5, 5, 5, 4, 4, 4, 4, 4, 4, 4, 4, 4, 4, 4, 4, 4, 4, 4, 4, 4, 4, 4, 5, 7, 7, 7, 7, 7, 7, 7, 6, 25, 5, 0, 0], [40, 7, 7, 9, 8, 8, 6, 10, 5, 6, 12, 12, 12, 5, 10, 28, 6, 8, 11, 13, 10, 14, 11, 8, 9, 11, 10, 10, 9, 10, 10, 17, 9, 9, 7, 7, 7, 7, 8, 8, 8, 7, 7, 7, 6, 7, 8, 6, 11, 22, 6, 6, 6, 6, 6, 6, 7, 7, 6, 7, 6, 6, 5, 6, 6, 28, 6, 6, 5, 6, 5, 6, 6, 5, 5, 5, 5, 5, 5, 5, 5, 5, 5, 5, 5, 5, 4, 4, 4, 4, 4, 4, 4, 4, 4, 4, 4, 4, 4, 4, 4, 4, 4, 4, 4, 5, 7, 7, 7, 7, 7, 7, 7, 6, 25, 5, 0, 0, 0], [41, 8, 8, 10, 9, 9, 7, 11, 6, 7, 13, 13, 13, 6, 11, 29, 7, 9, 12, 14, 11, 15, 12, 9, 10, 12, 11, 11, 10, 11, 11, 18, 10, 10, 8, 8, 8, 8, 9, 9, 9, 8, 8, 8, 7, 8, 9, 7, 12, 23, 7, 7, 7, 7, 7, 7, 8, 8, 7, 8, 7, 7, 6, 7, 7, 29, 7, 7, 6, 7, 6, 7, 7, 6, 6, 6, 6, 6, 6, 6, 6, 6, 6, 6, 6, 6, 5, 5, 5, 5, 5, 5, 5, 5, 5, 5, 5, 5, 5, 5, 5, 5, 5, 5, 5, 6, 8, 8, 8, 8, 8, 8, 8, 7, 26, 6, 1, 1, 1, 0], [41, 9, 8, 10, 9, 9, 7, 11, 6, 7, 13, 13, 13, 6, 11, 29, 7, 9, 12, 14, 11, 15, 12, 9, 10, 12, 11, 11, 10, 11, 11, 18, 10, 10, 8, 8, 8, 8, 9, 9, 9, 8, 8, 8, 7, 8, 9, 7, 12, 21, 7, 7, 7, 7, 7, 7, 8, 8, 7, 8, 7, 7, 6, 7, 7, 23, 7, 7, 6, 7, 6, 7, 7, 6, 6, 6, 6, 6, 6, 6, 6, 6, 6, 6, 6, 6, 5, 5, 5, 5, 5, 5, 5, 5, 5, 5, 5, 5, 5, 5, 5, 5, 5, 5, 5, 6, 8, 8, 8, 8, 8, 8, 6, 7, 18, 6, 5, 5, 5, 6, 0], [39, 7, 7, 9, 8, 7, 6, 10, 5, 6, 12, 12, 12, 5, 10, 28, 6, 8, 11, 13, 10, 14, 11, 8, 9, 11, 10, 10, 9, 10, 10, 17, 9, 9, 7, 7, 7, 7, 8, 7, 7, 7, 7, 7, 6, 7, 8, 6, 8, 14, 6, 6, 6, 6, 6, 6, 7, 7, 6, 7, 6, 6, 5, 6, 6, 16, 6, 6, 5, 6, 5, 6, 6, 5, 5, 5, 5, 5, 5, 5, 5, 5, 5, 5, 5, 5, 4, 4, 4, 4, 4, 4, 4, 4, 4, 4, 4, 4, 4, 4, 4, 4, 4, 4, 4, 5, 7, 7, 7, 7, 7, 7, 7, 6, 12, 5, 4, 4, 4, 5, 5, 0], [39, 8, 7, 9, 8, 8, 6, 10, 5, 6, 12, 12, 12, 5, 10, 28, 6, 8, 11, 13, 10, 14, 11, 8, 9, 11, 10, 10, 9, 10, 10, 17, 9, 9, 7, 7, 7, 7, 8, 8, 8, 7, 7, 7, 6, 7, 8, 6, 11, 22, 6, 6, 6, 6, 6, 6, 7, 7, 6, 7, 6, 6, 5, 6, 6, 28, 6, 6, 5, 6, 5, 6, 6, 5, 5, 5, 5, 5, 5, 5, 5, 5, 5, 5, 5, 5, 4, 4, 4, 4, 4, 4, 4, 4, 4, 4, 4, 4, 4, 4, 4, 4, 4, 4, 4, 5, 7, 7, 7, 7, 7, 7, 7, 6, 25, 5, 4, 4, 4, 5, 5, 4, 0], [39, 8, 7, 9, 8, 8, 6, 8, 5, 6, 12, 12, 12, 5, 10, 26, 6, 8, 11, 13, 10, 12, 11, 8, 9, 9, 10, 8, 9, 8, 8, 15, 9, 9, 7, 7, 7, 7, 6, 6, 6, 7, 7, 7, 6, 7, 6, 5, 8, 12, 6, 6, 6, 6, 6, 6, 7, 5, 6, 7, 6, 6, 3, 4, 4, 14, 4, 6, 5, 6, 5, 6, 6, 5, 5, 5, 5, 5, 5, 5, 5, 5, 5, 5, 5, 5, 4, 4, 4, 4, 4, 4, 4, 4, 4, 4, 4, 4, 4, 4, 4, 4, 4, 4, 4, 5, 7, 7, 7, 7, 7, 7, 5, 6, 12, 4, 4, 4, 4, 5, 3, 4, 4, 0], [39, 7, 6, 8, 7, 7, 5, 9, 4, 5, 11, 11, 11, 4, 9, 27, 5, 7, 10, 12, 9, 13, 10, 7, 8, 10, 9, 9, 8, 9, 9, 15, 8, 8, 6, 6, 6, 6, 7, 7, 7, 6, 6, 6, 5, 6, 7, 5, 5, 5, 5, 5, 5, 5, 5, 5, 6, 6, 5, 5, 5, 5, 4, 5, 5, 4, 5, 4, 4, 5, 4, 5, 4, 4, 4, 4, 4, 4, 4, 4, 4, 4, 4, 4, 4, 4, 3, 3, 3, 3, 3, 3, 3, 3, 3, 3, 3, 3, 3, 3, 3, 3, 3, 3, 3, 4, 6, 6, 6, 6, 6, 6, 4, 5, 3, 4, 3, 3, 3, 4, 2, 3, 3, 1, 0], [39, 7, 6, 7, 7, 7, 3, 9, 3, 3, 11, 10, 10, 2, 8, 28, 4, 6, 11, 13, 10, 14, 11, 8, 9, 11, 10, 10, 9, 10, 10, 16, 9, 8, 7, 7, 7, 7, 8, 8, 8, 7, 7, 7, 6, 7, 8, 5, 6, 7, 5, 5, 5, 6, 6, 6, 7, 7, 6, 7, 6, 6, 5, 6, 6, 13, 5, 6, 5, 5, 4, 6, 4, 5, 5, 5, 5, 5, 5, 5, 5, 5, 5, 5, 5, 5, 4, 4, 4, 4, 4, 4, 3, 3, 4, 4, 4, 4, 4, 3, 4, 4, 4, 4, 4, 5, 7, 7, 7, 6, 6, 6, 7, 6, 4, 5, 4, 4, 4, 5, 5, 4, 4, 4, 2, 0], [39, 7, 6, 6, 7, 7, 3, 9, 2, 3, 11, 9, 9, 2, 7, 27, 3, 5, 10, 12, 9, 13, 10, 7, 8, 10, 9, 9, 8, 9, 9, 16, 8, 8, 6, 6, 6, 6, 7, 7, 7, 6, 6, 6, 5, 6, 7, 5, 7, 13, 5, 5, 5, 5, 5, 5, 6, 6, 5, 6, 5, 5, 4, 5, 5, 15, 5, 5, 4, 5, 4, 5, 5, 4, 4, 4, 4, 4, 4, 4, 4, 4, 4, 4, 4, 4, 3, 3, 3, 3, 3, 3, 3, 3, 3, 3, 3, 3, 3, 3, 3, 3, 3, 3, 3, 4, 6, 6, 6, 6, 6, 6, 6, 5, 11, 4, 3, 3, 3, 4, 4, 3, 3, 3, 2, 1, 0], [39, 7, 6, 6, 7, 7, 3, 9, 2, 3, 11, 9, 9, 2, 7, 27, 3, 5, 10, 12, 9, 13, 10, 7, 8, 10, 9, 9, 8, 9, 9, 16, 8, 8, 6, 6, 6, 6, 7, 7, 7, 6, 6, 6, 5, 6, 7, 5, 7, 13, 5, 5, 5, 5, 5, 5, 6, 6, 5, 6, 5, 5, 4, 5, 5, 15, 5, 5, 4, 5, 4, 5, 5, 4, 4, 4, 4, 4, 4, 4, 4, 4, 4, 4, 4, 4, 3, 3, 3, 3, 3, 3, 3, 3, 3, 3, 3, 3, 3, 3, 3, 3, 3, 3, 3, 4, 6, 6, 6, 6, 6, 6, 6, 5, 11, 4, 3, 3, 3, 4, 4, 3, 3, 3, 2, 1, 0, 0], [39, 7, 6, 6, 7, 7, 3, 9, 2, 3, 11, 9, 9, 2, 7, 27, 3, 5, 10, 12, 9, 13, 10, 7, 8, 10, 9, 9, 8, 9, 9, 16, 8, 8, 6, 6, 6, 6, 7, 7, 7, 6, 6, 6, 5, 6, 7, 5, 7, 13, 5, 5, 5, 5, 5, 5, 6, 6, 5, 6, 5, 5, 4, 5, 5, 15, 5, 5, 4, 5, 4, 5, 5, 4, 4, 4, 4, 4, 4, 4, 4, 4, 4, 4, 4, 4, 3, 3, 3, 3, 3, 3, 3, 3, 3, 3, 3, 3, 3, 3, 3, 3, 3, 3, 3, 4, 6, 6, 6, 6, 6, 6, 6, 5, 11, 4, 3, 3, 3, 4, 4, 3, 3, 3, 2, 1, 0, 0, 0], [39, 7, 6, 5, 7, 7, 3, 9, 2, 3, 11, 7, 6, 2, 4, 27, 3, 4, 10, 12, 9, 13, 10, 7, 8, 10, 9, 9, 8, 9, 9, 12, 8, 8, 6, 6, 6, 6, 7, 7, 7, 6, 6, 6, 5, 6, 7, 5, 5, 5, 5, 5, 5, 5, 5, 5, 6, 6, 5, 5, 5, 5, 4, 5, 5, 4, 5, 5, 4, 5, 4, 5, 4, 4, 4, 4, 4, 4, 4, 4, 4, 4, 4, 4, 4, 4, 3, 3, 3, 3, 3, 3, 3, 3, 3, 3, 3, 3, 3, 3, 3, 3, 3, 3, 3, 4, 6, 6, 6, 6, 6, 6, 6, 5, 3, 4, 3, 3, 3, 4, 4, 3, 3, 3, 2, 0, 0, 0, 0, 0], [38, 6, 5, 7, 6, 6, 4, 8, 3, 4, 10, 10, 10, 3, 8, 27, 4, 6, 10, 12, 9, 13, 10, 7, 8, 10, 9, 8, 8, 9, 9, 15, 8, 8, 6, 6, 6, 6, 7, 7, 7, 6, 6, 6, 5, 6, 7, 5, 8, 12, 5, 5, 5, 5, 5, 5, 6, 6, 4, 5, 5, 5, 4, 5, 4, 6, 4, 5, 4, 4, 4, 4, 4, 4, 4, 4, 4, 4, 4, 4, 4, 4, 4, 4, 4, 4, 3, 2, 2, 3, 3, 3, 3, 3, 3, 3, 3, 3, 3, 3, 3, 3, 3, 3, 3, 4, 6, 6, 6, 5, 5, 5, 6, 4, 11, 4, 3, 3, 3, 4, 4, 3, 3, 3, 1, 3, 2, 2, 2, 1, 0], [39, 7, 6, 8, 7, 7, 5, 9, 4, 5, 11, 11, 11, 4, 9, 27, 5, 7, 10, 12, 9, 13, 10, 7, 8, 10, 9, 9, 8, 9, 9, 16, 8, 8, 6, 6, 6, 6, 7, 7, 7, 6, 6, 6, 5, 6, 7, 5, 10, 19, 5, 5, 5, 5, 5, 5, 6, 6, 5, 6, 5, 5, 4, 5, 5, 21, 5, 5, 4, 5, 4, 5, 5, 4, 4, 4, 4, 4, 4, 4, 4, 4, 4, 4, 4, 4, 3, 3, 3, 3, 3, 3, 3, 3, 3, 3, 3, 3, 3, 3, 3, 3, 3, 3, 3, 4, 6, 6, 6, 6, 6, 6, 6, 3, 16, 4, 3, 3, 3, 4, 4, 3, 3, 3, 2, 3, 2, 2, 2, 2, 2, 0], [39, 7, 6, 8, 7, 7, 5, 9, 4, 5, 11, 11, 11, 4, 9, 27, 5, 7, 10, 12, 9, 13, 10, 7, 8, 10, 9, 9, 8, 9, 9, 15, 8, 8, 6, 6, 6, 6, 7, 7, 7, 6, 6, 6, 5, 6, 7, 5, 8, 15, 5, 5, 5, 5, 5, 5, 6, 6, 5, 5, 5, 5, 4, 5, 5, 10, 5, 5, 4, 5, 4, 5, 4, 4, 4, 4, 4, 4, 4, 4, 4, 4, 4, 4, 4, 4, 3, 3, 3, 3, 3, 3, 3, 3, 3, 3, 3, 3, 3, 3, 3, 3, 3, 3, 3, 4, 6, 6, 6, 6, 6, 6, 6, 3, 15, 4, 3, 3, 3, 4, 4, 3, 3, 3, 2, 3, 2, 2, 2, 2, 1, 0, 0], [38, 6, 5, 7, 6, 6, 4, 8, 3, 4, 10, 10, 10, 3, 8, 26, 4, 6, 9, 11, 8, 12, 9, 6, 7, 9, 8, 8, 7, 8, 8, 15, 7, 7, 5, 5, 5, 5, 6, 6, 6, 5, 5, 5, 4, 5, 6, 4, 6, 8, 4, 4, 4, 4, 4, 4, 5, 5, 4, 5, 4, 4, 3, 4, 4, 14, 4, 4, 3, 4, 3, 4, 4, 3, 3, 3, 3, 3, 3, 3, 3, 3, 3, 3, 3, 3, 2, 2, 2, 2, 2, 2, 2, 2, 2, 2, 2, 2, 2, 2, 2, 2, 2, 2, 2, 3, 5, 5, 5, 5, 5, 5, 5, 4, 3, 3, 2, 2, 2, 3, 3, 2, 2, 2, 1, 1, 1, 1, 1, 1, 1, 1, 1, 0], [43, 13, 12, 3, 13, 13, 5, 15, 4, 5, 17, 9, 8, 4, 6, 33, 5, 6, 16, 18, 15, 19, 16, 13, 14, 16, 15, 15, 14, 15, 15, 16, 14, 14, 12, 12, 12, 12, 13, 13, 13, 12, 12, 12, 11, 12, 13, 11, 14, 23, 11, 11, 11, 11, 11, 11, 12, 12, 11, 11, 11, 11, 10, 11, 11, 22, 11, 10, 10, 11, 10, 11, 10, 10, 10, 10, 10, 10, 10, 10, 10, 10, 10, 10, 10, 10, 9, 9, 9, 9, 9, 9, 9, 9, 9, 9, 9, 9, 9, 9, 9, 9, 9, 9, 9, 10, 12, 12, 12, 12, 12, 12, 12, 11, 27, 10, 9, 9, 9, 10, 10, 9, 9, 9, 8, 6, 6, 6, 6, 6, 7, 8, 8, 7, 0], [45, 13, 12, 8, 13, 13, 6, 14, 5, 5, 17, 9, 8, 4, 7, 34, 6, 5, 17, 19, 16, 20, 17, 14, 15, 17, 16, 16, 15, 16, 16, 17, 15, 15, 13, 13, 13, 13, 14, 14, 14, 13, 13, 13, 12, 13, 14, 12, 15, 24, 12, 12, 12, 12, 12, 12, 13, 13, 12, 12, 12, 12, 11, 12, 12, 23, 11, 11, 11, 11, 10, 12, 10, 11, 11, 11, 11, 11, 11, 11, 11, 11, 11, 11, 11, 11, 10, 10, 10, 10, 10, 10, 10, 10, 10, 10, 10, 10, 10, 9, 10, 10, 10, 10, 10, 11, 13, 13, 13, 12, 12, 12, 13, 12, 25, 11, 10, 10, 10, 11, 11, 10, 10, 10, 9, 7, 7, 7, 7, 7, 8, 9, 9, 8, 9, 0], [44, 12, 12, 8, 13, 12, 6, 15, 5, 6, 17, 9, 8, 4, 7, 34, 6, 7, 17, 19, 16, 20, 17, 14, 15, 17, 16, 16, 15, 16, 16, 16, 15, 15, 13, 13, 13, 13, 14, 14, 14, 13, 13, 13, 12, 13, 14, 12, 12, 12, 12, 12, 12, 12, 12, 12, 13, 13, 12, 12, 12, 12, 11, 12, 12, 11, 12, 11, 11, 12, 10, 12, 10, 11, 11, 11, 11, 11, 11, 11, 11, 11, 11, 11, 11, 11, 10, 10, 10, 10, 10, 10, 10, 10, 10, 10, 10, 10, 10, 9, 10, 10, 10, 10, 10, 11, 13, 13, 13, 12, 12, 12, 13, 12, 10, 11, 10, 10, 10, 11, 11, 10, 10, 10, 9, 7, 7, 7, 7, 7, 8, 9, 9, 8, 9, 9, 0], [43, 13, 12, 21, 13, 13, 17, 15, 19, 17, 17, 25, 20, 4, 20, 50, 22, 22, 30, 35, 29, 33, 31, 28, 28, 30, 31, 29, 28, 29, 32, 28, 28, 28, 26, 27, 26, 26, 30, 30, 30, 29, 29, 29, 25, 26, 27, 23, 27, 39, 25, 22, 25, 25, 25, 25, 26, 26, 28, 26, 25, 28, 24, 28, 26, 33, 12, 27, 27, 17, 10, 28, 10, 24, 24, 24, 24, 24, 24, 27, 27, 27, 24, 24, 24, 24, 23, 25, 24, 26, 26, 26, 23, 22, 23, 23, 23, 23, 23, 9, 23, 23, 23, 23, 23, 24, 26, 26, 27, 12, 12, 12, 26, 25, 39, 27, 26, 26, 26, 27, 27, 23, 26, 23, 22, 21, 20, 20, 20, 17, 22, 25, 25, 21, 22, 22, 6, 0], [43, 12, 11, 8, 12, 12, 4, 14, 4, 4, 16, 11, 11, 3, 9, 37, 6, 6, 20, 22, 19, 23, 20, 17, 18, 20, 19, 16, 18, 19, 17, 24, 18, 15, 16, 16, 16, 16, 17, 17, 17, 16, 16, 16, 15, 16, 17, 14, 18, 27, 12, 10, 15, 15, 15, 15, 16, 16, 12, 13, 15, 15, 14, 15, 12, 30, 10, 15, 14, 10, 9, 12, 12, 11, 14, 14, 14, 14, 14, 14, 14, 14, 14, 14, 14, 14, 13, 10, 10, 13, 13, 13, 10, 9, 13, 13, 13, 13, 13, 11, 13, 13, 13, 13, 13, 14, 16, 16, 16, 11, 11, 11, 16, 12, 33, 14, 13, 13, 13, 14, 14, 13, 13, 13, 9, 11, 10, 10, 10, 6, 9, 12, 9, 11, 7, 8, 8, 25, 0], [44, 12, 11, 9, 13, 13, 5, 15, 5, 5, 16, 9, 13, 4, 11, 36, 8, 7, 19, 21, 18, 22, 19, 16, 17, 19, 18, 18, 17, 18, 18, 23, 17, 17, 15, 15, 15, 15, 16, 16, 16, 15, 15, 15, 14, 15, 16, 12, 17, 26, 14, 11, 14, 14, 14, 14, 15, 15, 14, 14, 14, 14, 13, 14, 14, 25, 11, 13, 13, 11, 10, 14, 10, 13, 13, 13, 13, 13, 13, 13, 13, 13, 13, 13, 13, 13, 12, 12, 12, 12, 12, 12, 12, 11, 12, 12, 12, 12, 12, 9, 12, 12, 12, 12, 12, 13, 15, 15, 15, 12, 12, 12, 15, 14, 32, 13, 12, 12, 12, 13, 13, 12, 12, 12, 11, 10, 9, 9, 9, 6, 10, 11, 11, 10, 8, 9, 9, 27, 9, 0], [44, 12, 11, 7, 12, 12, 4, 12, 3, 4, 16, 10, 10, 3, 8, 34, 4, 6, 19, 21, 18, 20, 19, 16, 17, 17, 18, 13, 17, 16, 16, 18, 17, 17, 15, 15, 15, 15, 14, 14, 14, 15, 15, 15, 14, 15, 14, 13, 17, 24, 14, 14, 14, 14, 14, 14, 15, 13, 14, 14, 14, 14, 11, 12, 12, 23, 8, 13, 13, 14, 13, 10, 13, 13, 13, 13, 13, 13, 13, 13, 13, 13, 13, 13, 13, 13, 12, 12, 12, 12, 12, 12, 12, 12, 12, 12, 12, 12, 12, 12, 12, 12, 12, 12, 12, 13, 15, 15, 15, 11, 11, 11, 15, 14, 32, 12, 12, 12, 12, 13, 13, 12, 12, 10, 11, 10, 9, 9, 9, 9, 10, 11, 11, 10, 7, 8, 8, 24, 12, 12, 0], [43, 11, 10, 5, 11, 11, 3, 13, 2, 3, 15, 9, 8, 2, 6, 31, 3, 5, 14, 16, 13, 17, 14, 11, 12, 14, 13, 13, 12, 13, 13, 16, 12, 12, 10, 10, 10, 10, 11, 11, 11, 10, 10, 10, 9, 10, 11, 9, 9, 9, 9, 9, 9, 9, 9, 9, 10, 10, 9, 9, 9, 9, 8, 9, 9, 8, 9, 8, 8, 9, 8, 9, 8, 8, 8, 8, 8, 8, 8, 8, 8, 8, 8, 8, 8, 8, 7, 7, 7, 7, 7, 7, 7, 7, 7, 7, 7, 7, 7, 7, 7, 7, 7, 7, 7, 8, 10, 10, 10, 10, 10, 10, 10, 9, 7, 8, 7, 7, 7, 8, 8, 7, 7, 7, 6, 4, 4, 4, 4, 4, 5, 6, 6, 5, 6, 7, 7, 19, 7, 7, 3, 0], [42, 10, 9, 5, 11, 11, 3, 13, 3, 3, 14, 10, 7, 2, 5, 32, 4, 6, 15, 17, 14, 18, 15, 12, 13, 15, 14, 14, 13, 14, 14, 15, 13, 13, 11, 11, 11, 11, 12, 12, 12, 11, 11, 11, 10, 11, 12, 9, 13, 22, 10, 9, 10, 10, 10, 10, 11, 11, 10, 10, 10, 10, 9, 10, 10, 21, 9, 9, 9, 9, 8, 10, 8, 9, 9, 9, 9, 9, 9, 9, 9, 9, 9, 9, 9, 9, 8, 8, 8, 8, 8, 8, 8, 7, 8, 8, 8, 8, 8, 7, 8, 8, 8, 8, 8, 9, 11, 11, 11, 10, 10, 10, 11, 10, 28, 9, 8, 8, 8, 9, 9, 8, 8, 8, 7, 6, 5, 5, 5, 4, 6, 7, 7, 6, 6, 7, 7, 21, 8, 5, 4, 2, 0], [42, 10, 9, 6, 11, 11, 3, 13, 2, 3, 14, 9, 9, 2, 7, 31, 3, 5, 14, 16, 13, 17, 14, 11, 12, 14, 13, 13, 12, 13, 13, 19, 12, 12, 10, 10, 10, 10, 11, 11, 11, 10, 10, 10, 9, 10, 11, 9, 12, 21, 9, 9, 9, 9, 9, 9, 10, 10, 9, 9, 9, 9, 8, 9, 9, 23, 9, 9, 8, 9, 8, 9, 8, 8, 8, 8, 8, 8, 8, 8, 8, 8, 8, 8, 8, 8, 7, 7, 7, 7, 7, 7, 7, 7, 7, 7, 7, 7, 7, 7, 7, 7, 7, 7, 7, 8, 10, 10, 10, 10, 10, 10, 10, 9, 26, 8, 7, 7, 7, 8, 8, 7, 7, 7, 6, 5, 4, 4, 4, 4, 6, 6, 6, 5, 6, 7, 7, 23, 7, 5, 7, 2, 1, 0], [42, 11, 10, 5, 11, 11, 3, 13, 2, 3, 15, 6, 5, 2, 4, 31, 3, 4, 14, 16, 13, 17, 14, 11, 12, 14, 13, 13, 12, 13, 13, 13, 12, 12, 10, 10, 10, 10, 11, 11, 11, 10, 10, 10, 9, 10, 11, 9, 12, 21, 9, 9, 9, 9, 9, 9, 10, 10, 9, 9, 9, 9, 8, 9, 9, 16, 9, 8, 8, 9, 8, 9, 8, 8, 8, 8, 8, 8, 8, 8, 8, 8, 8, 8, 8, 8, 7, 7, 7, 7, 7, 7, 7, 7, 7, 7, 7, 7, 7, 7, 7, 7, 7, 7, 7, 8, 10, 10, 10, 10, 10, 10, 10, 9, 22, 7, 7, 7, 7, 8, 8, 7, 7, 7, 6, 4, 4, 4, 4, 4, 5, 6, 6, 5, 6, 6, 7, 18, 5, 6, 5, 4, 4, 4, 0], [44, 11, 10, 5, 11, 11, 3, 13, 2, 3, 15, 7, 6, 2, 4, 35, 3, 4, 18, 20, 17, 21, 18, 15, 16, 18, 17, 14, 16, 17, 17, 16, 16, 16, 14, 14, 14, 14, 15, 15, 15, 14, 14, 14, 13, 14, 15, 13, 16, 25, 13, 13, 13, 13, 13, 13, 14, 14, 13, 13, 13, 13, 12, 13, 13, 24, 9, 12, 12, 13, 12, 9, 12, 12, 12, 12, 12, 12, 12, 12, 12, 12, 12, 12, 12, 12, 11, 11, 11, 11, 11, 11, 11, 11, 11, 11, 11, 11, 11, 11, 11, 11, 11, 11, 11, 12, 14, 14, 14, 10, 10, 10, 14, 13, 27, 12, 11, 11, 11, 12, 12, 11, 11, 11, 10, 8, 8, 8, 8, 8, 9, 10, 10, 9, 6, 7, 7, 20, 9, 10, 7, 4, 4, 8, 4, 0], [42, 12, 12, 8, 13, 12, 5, 13, 4, 5, 17, 9, 9, 4, 7, 31, 5, 6, 16, 18, 15, 17, 16, 13, 14, 14, 15, 13, 14, 13, 13, 17, 14, 14, 12, 12, 12, 12, 11, 11, 11, 12, 12, 12, 11, 12, 11, 10, 14, 21, 11, 11, 11, 11, 11, 11, 12, 10, 11, 11, 11, 11, 8, 9, 9, 18, 9, 11, 10, 11, 10, 11, 10, 10, 10, 10, 10, 10, 10, 10, 10, 10, 10, 10, 10, 10, 9, 9, 9, 9, 9, 9, 9, 9, 9, 9, 9, 9, 9, 9, 9, 9, 9, 9, 9, 10, 12, 12, 12, 12, 12, 12, 12, 11, 24, 9, 9, 9, 9, 10, 10, 9, 9, 7, 8, 7, 6, 6, 6, 6, 7, 8, 8, 7, 8, 9, 9, 23, 7, 8, 9, 6, 7, 6, 6, 10, 0], [42, 10, 9, 6, 10, 10, 2, 12, 2, 2, 14, 7, 6, 1, 5, 31, 3, 4, 14, 16, 13, 17, 14, 11, 12, 14, 7, 13, 12, 13, 13, 14, 12, 12, 10, 10, 10, 10, 11, 11, 11, 10, 10, 10, 9, 10, 11, 8, 12, 21, 9, 8, 9, 9, 9, 9, 10, 10, 9, 9, 9, 9, 8, 9, 9, 17, 8, 8, 8, 8, 7, 9, 7, 8, 8, 8, 8, 8, 8, 8, 8, 8, 8, 8, 8, 8, 7, 7, 7, 7, 7, 7, 7, 6, 7, 7, 7, 7, 7, 6, 7, 7, 7, 7, 7, 8, 10, 10, 10, 9, 9, 9, 10, 9, 22, 7, 7, 7, 7, 8, 8, 7, 7, 7, 6, 5, 4, 4, 4, 3, 5, 6, 6, 5, 5, 6, 6, 20, 5, 6, 5, 4, 5, 4, 3, 3, 5, 0], [45, 12, 11, 6, 12, 12, 4, 14, 3, 4, 16, 8, 3, 3, 5, 36, 4, 5, 19, 21, 18, 22, 19, 16, 17, 19, 18, 15, 17, 18, 18, 17, 17, 17, 15, 15, 15, 15, 16, 16, 16, 15, 15, 15, 14, 15, 16, 14, 14, 14, 14, 14, 14, 14, 14, 14, 15, 15, 14, 14, 14, 14, 13, 14, 14, 13, 10, 13, 13, 14, 13, 10, 13, 13, 13, 13, 13, 13, 13, 13, 13, 13, 13, 13, 13, 13, 12, 12, 12, 12, 12, 12, 12, 12, 12, 12, 12, 12, 12, 12, 12, 12, 12, 12, 12, 13, 15, 15, 15, 11, 11, 11, 15, 14, 12, 13, 12, 12, 12, 13, 13, 12, 12, 12, 11, 9, 9, 9, 9, 9, 10, 11, 11, 10, 7, 8, 8, 18, 10, 11, 6, 5, 5, 9, 5, 7, 11, 4, 0], [43, 12, 11, 7, 12, 12, 4, 14, 3, 4, 16, 10, 10, 3, 8, 32, 4, 6, 15, 17, 14, 18, 15, 12, 13, 15, 14, 14, 13, 14, 14, 18, 13, 13, 11, 11, 11, 11, 12, 12, 12, 11, 11, 11, 10, 11, 12, 10, 13, 19, 10, 10, 10, 10, 10, 10, 11, 11, 10, 10, 10, 10, 9, 10, 10, 17, 10, 9, 9, 10, 9, 10, 9, 9, 9, 9, 9, 9, 9, 9, 9, 9, 9, 9, 9, 9, 8, 8, 8, 8, 8, 8, 8, 8, 8, 8, 8, 8, 8, 8, 8, 8, 8, 8, 8, 9, 11, 11, 11, 11, 11, 11, 11, 10, 19, 9, 8, 8, 8, 9, 9, 8, 8, 8, 7, 6, 5, 5, 5, 5, 6, 7, 7, 6, 7, 8, 8, 24, 8, 10, 6, 5, 6, 5, 5, 5, 7, 5, 6, 0], [44, 12, 11, 6, 12, 12, 4, 14, 3, 4, 16, 8, 7, 3, 5, 32, 4, 5, 15, 17, 14, 18, 15, 12, 13, 15, 14, 14, 13, 14, 14, 15, 13, 13, 11, 11, 11, 11, 12, 12, 12, 11, 11, 11, 10, 11, 12, 10, 10, 10, 10, 10, 10, 10, 10, 10, 11, 11, 10, 10, 10, 10, 9, 10, 10, 9, 10, 9, 9, 10, 9, 10, 9, 9, 9, 9, 9, 9, 9, 9, 9, 9, 9, 9, 9, 9, 8, 8, 8, 8, 8, 8, 8, 8, 8, 8, 8, 8, 8, 8, 8, 8, 8, 8, 8, 9, 11, 11, 11, 11, 11, 11, 11, 10, 8, 9, 8, 8, 8, 9, 9, 8, 8, 8, 7, 5, 5, 5, 5, 5, 6, 7, 7, 6, 7, 8, 8, 18, 6, 7, 6, 5, 5, 5, 5, 5, 7, 4, 6, 6, 0], [45, 12, 11, 6, 12, 12, 4, 14, 3, 4, 16, 10, 7, 3, 8, 33, 4, 6, 16, 18, 15, 19, 16, 13, 14, 16, 15, 15, 14, 15, 15, 19, 14, 14, 12, 12, 12, 12, 13, 13, 13, 12, 12, 12, 11, 12, 13, 11, 14, 23, 11, 11, 11, 11, 11, 11, 12, 12, 11, 11, 11, 11, 10, 11, 11, 22, 10, 10, 10, 11, 10, 10, 10, 10, 10, 10, 10, 10, 10, 10, 10, 10, 10, 10, 10, 10, 9, 9, 9, 9, 9, 9, 9, 9, 9, 9, 9, 9, 9, 9, 9, 9, 9, 9, 9, 10, 12, 12, 12, 11, 11, 11, 12, 11, 28, 10, 9, 9, 9, 10, 10, 9, 9, 9, 8, 7, 6, 6, 6, 6, 7, 8, 8, 7, 7, 8, 8, 24, 9, 11, 7, 5, 6, 6, 5, 6, 8, 5, 5, 6, 6, 0], [42, 10, 9, 4, 10, 10, 2, 12, 2, 2, 14, 10, 5, 1, 3, 33, 5, 6, 16, 18, 15, 19, 15, 13, 14, 16, 15, 15, 14, 15, 15, 15, 14, 14, 12, 12, 12, 12, 13, 13, 13, 12, 12, 12, 11, 12, 13, 9, 14, 23, 11, 8, 11, 11, 11, 11, 12, 12, 11, 11, 11, 11, 10, 11, 11, 22, 8, 10, 10, 8, 7, 11, 7, 10, 10, 10, 10, 10, 10, 10, 10, 10, 10, 10, 10, 10, 9, 9, 9, 9, 9, 9, 9, 8, 9, 9, 9, 9, 9, 6, 9, 9, 9, 9, 9, 10, 12, 12, 12, 9, 9, 9, 12, 11, 29, 10, 9, 9, 9, 10, 10, 9, 9, 9, 8, 7, 6, 6, 6, 3, 7, 8, 8, 7, 5, 6, 6, 19, 8, 10, 10, 5, 4, 6, 3, 6, 6, 4, 7, 7, 4, 8, 0], [44, 12, 11, 7, 12, 12, 4, 14, 3, 4, 16, 10, 10, 3, 8, 32, 4, 6, 15, 17, 14, 18, 15, 12, 13, 15, 14, 14, 13, 14, 14, 18, 13, 13, 11, 11, 11, 11, 12, 12, 12, 11, 11, 11, 10, 11, 12, 10, 13, 22, 10, 10, 10, 10, 10, 10, 11, 11, 10, 10, 10, 10, 9, 10, 10, 21, 10, 9, 9, 10, 9, 10, 9, 9, 9, 9, 9, 9, 9, 9, 9, 9, 9, 9, 9, 9, 8, 8, 8, 8, 8, 8, 8, 8, 8, 8, 8, 8, 8, 8, 8, 8, 8, 8, 8, 9, 11, 11, 11, 11, 11, 11, 11, 10, 27, 9, 8, 8, 8, 9, 9, 8, 8, 8, 7, 6, 5, 5, 5, 5, 6, 7, 7, 6, 7, 8, 8, 24, 6, 10, 6, 5, 6, 5, 5, 5, 7, 5, 6, 6, 6, 7, 7, 0], [43, 10, 9, 6, 11, 11, 3, 13, 4, 3, 15, 9, 9, 2, 7, 35, 3, 5, 18, 20, 17, 21, 18, 15, 16, 18, 17, 14, 16, 17, 17, 19, 16, 16, 14, 14, 14, 14, 15, 15, 15, 14, 14, 14, 13, 14, 15, 13, 16, 25, 13, 13, 13, 13, 13, 13, 14, 14, 13, 13, 13, 15, 12, 13, 13, 24, 9, 12, 12, 13, 12, 9, 12, 12, 12, 12, 12, 12, 12, 12, 12, 12, 12, 12, 12, 12, 11, 11, 11, 11, 11, 11, 11, 11, 11, 11, 11, 11, 11, 11, 11, 11, 11, 11, 11, 12, 14, 14, 14, 10, 10, 10, 14, 13, 31, 12, 11, 11, 11, 12, 12, 11, 11, 11, 10, 9, 8, 8, 8, 8, 9, 10, 10, 9, 6, 7, 7, 23, 11, 13, 5, 4, 7, 8, 4, 6, 10, 4, 5, 5, 5, 6, 9, 5, 0], [43, 10, 9, 5, 11, 11, 3, 13, 2, 3, 15, 9, 8, 2, 6, 35, 3, 5, 18, 20, 17, 21, 18, 15, 16, 18, 17, 14, 16, 17, 17, 18, 16, 16, 14, 14, 14, 14, 15, 15, 15, 14, 14, 14, 13, 14, 15, 13, 13, 13, 13, 13, 13, 13, 13, 13, 14, 14, 13, 13, 13, 13, 12, 13, 13, 12, 9, 13, 12, 13, 12, 9, 12, 12, 12, 12, 12, 12, 12, 12, 12, 12, 12, 12, 12, 12, 11, 11, 11, 11, 11, 11, 11, 11, 11, 11, 11, 11, 11, 11, 11, 11, 11, 11, 11, 12, 14, 14, 14, 10, 10, 10, 14, 13, 11, 12, 11, 11, 11, 12, 12, 11, 11, 11, 10, 8, 8, 8, 8, 8, 9, 10, 10, 9, 6, 7, 7, 19, 11, 13, 7, 4, 4, 8, 4, 4, 10, 4, 7, 5, 5, 6, 8, 5, 2, 0], [42, 10, 9, 5, 11, 11, 3, 13, 2, 3, 15, 7, 6, 2, 4, 31, 3, 4, 14, 16, 13, 17, 14, 11, 12, 14, 13, 13, 12, 13, 13, 14, 12, 12, 10, 10, 10, 10, 11, 11, 11, 10, 10, 10, 9, 10, 11, 9, 9, 9, 9, 9, 9, 9, 9, 9, 10, 10, 9, 9, 9, 9, 8, 9, 9, 8, 9, 8, 8, 9, 8, 9, 8, 8, 8, 8, 8, 8, 8, 8, 8, 8, 8, 8, 8, 8, 7, 7, 7, 7, 7, 7, 7, 7, 7, 7, 7, 7, 7, 7, 7, 7, 7, 7, 7, 8, 10, 10, 10, 10, 10, 10, 10, 9, 7, 8, 7, 7, 7, 8, 8, 7, 7, 7, 6, 4, 4, 4, 4, 4, 5, 6, 6, 5, 6, 7, 7, 17, 5, 6, 5, 4, 4, 4, 4, 4, 6, 3, 5, 5, 5, 5, 3, 5, 2, 2, 0], [44, 11, 11, 7, 12, 12, 4, 14, 3, 4, 16, 10, 8, 3, 8, 32, 4, 5, 15, 17, 14, 18, 15, 12, 13, 15, 8, 14, 13, 14, 14, 18, 13, 13, 11, 11, 11, 11, 12, 12, 12, 11, 11, 11, 10, 11, 12, 10, 13, 22, 10, 10, 10, 10, 10, 10, 11, 11, 10, 10, 10, 10, 9, 10, 10, 21, 10, 9, 9, 10, 9, 10, 9, 9, 9, 9, 9, 9, 9, 9, 9, 9, 9, 9, 9, 9, 8, 8, 8, 8, 8, 8, 8, 8, 8, 8, 8, 8, 8, 8, 8, 8, 8, 8, 8, 9, 11, 11, 11, 11, 11, 11, 11, 10, 28, 8, 8, 8, 8, 9, 9, 8, 8, 8, 7, 6, 5, 5, 5, 5, 6, 7, 7, 6, 7, 7, 8, 24, 8, 10, 6, 5, 6, 5, 5, 5, 7, 5, 4, 6, 6, 4, 7, 6, 5, 5, 5, 0], [43, 11, 10, 5, 11, 11, 3, 11, 2, 3, 15, 7, 3, 2, 4, 31, 3, 4, 14, 16, 13, 17, 14, 11, 12, 14, 7, 13, 12, 13, 13, 13, 12, 12, 10, 10, 10, 10, 11, 11, 11, 10, 10, 10, 9, 10, 11, 9, 9, 9, 9, 9, 9, 9, 9, 9, 10, 10, 9, 9, 9, 9, 8, 9, 9, 8, 9, 8, 8, 9, 8, 9, 8, 8, 8, 8, 8, 8, 8, 8, 8, 8, 8, 8, 8, 8, 7, 7, 7, 7, 7, 7, 7, 7, 7, 7, 7, 7, 7, 7, 7, 7, 7, 7, 7, 8, 10, 10, 10, 10, 10, 10, 10, 9, 7, 7, 7, 7, 7, 8, 8, 7, 7, 7, 6, 4, 4, 4, 4, 4, 5, 6, 6, 5, 6, 7, 7, 16, 5, 6, 5, 4, 4, 4, 4, 4, 6, 3, 5, 5, 5, 5, 3, 5, 4, 4, 4, 3, 0], [43, 11, 10, 4, 11, 11, 3, 13, 2, 3, 15, 6, 4, 2, 4, 31, 3, 4, 14, 16, 13, 17, 14, 11, 12, 14, 13, 13, 12, 13, 13, 13, 12, 12, 10, 10, 10, 10, 11, 11, 11, 10, 10, 10, 9, 10, 11, 9, 9, 9, 9, 9, 9, 9, 9, 9, 10, 10, 9, 9, 9, 9, 8, 9, 9, 8, 9, 8, 8, 9, 8, 9, 8, 8, 8, 8, 8, 8, 8, 8, 8, 8, 8, 8, 8, 8, 7, 7, 7, 7, 7, 7, 7, 7, 7, 7, 7, 7, 7, 7, 7, 7, 7, 7, 7, 8, 10, 10, 10, 10, 10, 10, 10, 9, 7, 8, 7, 7, 7, 8, 8, 7, 7, 7, 6, 4, 4, 4, 4, 4, 5, 6, 6, 5, 6, 6, 7, 7, 5, 6, 5, 4, 4, 4, 4, 4, 6, 3, 5, 5, 5, 5, 3, 5, 4, 4, 4, 5, 4, 0], [42, 11, 10, 5, 11, 11, 3, 13, 2, 3, 15, 7, 6, 2, 4, 31, 3, 4, 14, 16, 13, 17, 14, 11, 12, 14, 13, 13, 12, 13, 13, 14, 12, 12, 10, 10, 10, 10, 11, 11, 11, 10, 10, 10, 9, 10, 11, 9, 12, 21, 9, 9, 9, 9, 9, 9, 10, 10, 9, 9, 9, 9, 8, 9, 9, 20, 9, 8, 8, 9, 8, 9, 8, 8, 8, 8, 8, 8, 8, 8, 8, 8, 8, 8, 8, 8, 7, 7, 7, 7, 7, 7, 7, 7, 7, 7, 7, 7, 7, 7, 7, 7, 7, 7, 7, 8, 10, 10, 10, 10, 10, 10, 10, 9, 27, 8, 7, 7, 7, 8, 8, 7, 7, 7, 6, 5, 4, 4, 4, 4, 5, 6, 6, 5, 6, 7, 7, 20, 5, 6, 5, 4, 4, 4, 4, 4, 6, 3, 5, 5, 5, 5, 3, 5, 4, 4, 4, 5, 4, 4, 0], [42, 10, 9, 6, 10, 10, 2, 11, 2, 2, 14, 5, 6, 1, 5, 31, 3, 4, 14, 16, 13, 17, 14, 11, 12, 14, 13, 13, 12, 13, 13, 15, 12, 12, 10, 10, 10, 10, 11, 11, 11, 10, 10, 10, 9, 10, 11, 9, 12, 21, 9, 9, 9, 9, 9, 9, 10, 10, 9, 9, 9, 9, 8, 9, 9, 20, 8, 8, 8, 8, 7, 9, 7, 8, 8, 8, 8, 8, 8, 8, 8, 8, 8, 8, 8, 8, 7, 7, 7, 7, 7, 7, 7, 7, 7, 7, 7, 7, 7, 6, 7, 7, 7, 7, 7, 8, 10, 10, 10, 9, 9, 9, 10, 9, 26, 8, 7, 7, 7, 8, 8, 7, 7, 7, 6, 5, 4, 4, 4, 4, 5, 6, 6, 5, 6, 6, 6, 19, 5, 6, 5, 4, 5, 4, 3, 4, 6, 3, 5, 5, 5, 5, 4, 5, 4, 4, 4, 5, 4, 3, 4, 0], [42, 10, 9, 4, 10, 10, 2, 12, 1, 2, 14, 6, 5, 1, 3, 30, 2, 3, 13, 15, 12, 16, 13, 10, 11, 13, 12, 12, 11, 12, 12, 13, 11, 11, 9, 9, 9, 9, 10, 10, 10, 9, 9, 9, 8, 9, 10, 8, 11, 17, 8, 8, 8, 8, 8, 8, 9, 9, 8, 8, 8, 8, 7, 8, 8, 18, 8, 7, 7, 8, 7, 8, 7, 7, 7, 7, 7, 7, 7, 7, 7, 7, 7, 7, 7, 7, 6, 6, 6, 6, 6, 6, 6, 6, 6, 6, 6, 6, 6, 6, 6, 6, 6, 6, 6, 7, 9, 9, 9, 9, 9, 9, 9, 8, 17, 7, 6, 6, 6, 7, 7, 6, 6, 6, 5, 3, 3, 3, 3, 3, 4, 5, 5, 4, 5, 6, 6, 19, 4, 5, 4, 3, 3, 3, 3, 3, 5, 2, 4, 4, 4, 5, 2, 4, 3, 3, 3, 4, 3, 3, 3, 3, 0], [41, 9, 9, 5, 10, 9, 2, 12, 2, 3, 14, 8, 8, 1, 6, 31, 3, 4, 13, 16, 13, 17, 14, 11, 12, 14, 13, 12, 12, 13, 12, 16, 12, 11, 10, 10, 10, 10, 11, 11, 11, 10, 10, 10, 9, 10, 11, 8, 12, 18, 8, 8, 8, 9, 9, 9, 10, 10, 9, 9, 9, 9, 8, 9, 9, 16, 8, 8, 8, 8, 7, 9, 7, 7, 8, 8, 8, 8, 8, 8, 8, 8, 8, 8, 8, 8, 7, 7, 7, 7, 7, 7, 6, 6, 7, 7, 7, 7, 7, 6, 7, 7, 7, 7, 7, 8, 10, 10, 10, 9, 9, 9, 10, 8, 18, 8, 7, 7, 7, 8, 8, 7, 7, 7, 5, 3, 4, 4, 4, 3, 5, 6, 6, 4, 6, 7, 6, 22, 5, 8, 5, 3, 4, 4, 4, 4, 6, 3, 4, 4, 4, 5, 5, 5, 4, 3, 3, 5, 3, 3, 4, 4, 2, 0], [43, 11, 10, 6, 11, 11, 3, 12, 2, 3, 15, 9, 8, 2, 7, 31, 3, 3, 14, 16, 13, 17, 14, 11, 12, 14, 13, 13, 12, 13, 13, 17, 12, 12, 10, 10, 10, 10, 11, 11, 11, 10, 10, 10, 9, 10, 11, 9, 12, 21, 9, 9, 9, 9, 9, 9, 10, 10, 9, 9, 9, 9, 8, 9, 9, 20, 9, 8, 8, 9, 8, 9, 8, 8, 8, 8, 8, 8, 8, 8, 8, 8, 8, 8, 8, 8, 7, 7, 7, 7, 7, 7, 7, 7, 7, 7, 7, 7, 7, 7, 7, 7, 7, 7, 7, 8, 10, 10, 10, 10, 10, 10, 10, 9, 26, 8, 7, 7, 7, 8, 8, 7, 7, 7, 6, 5, 4, 4, 4, 4, 5, 6, 6, 5, 6, 3, 7, 23, 7, 9, 5, 4, 5, 4, 4, 4, 6, 4, 5, 5, 5, 5, 6, 5, 4, 4, 4, 4, 4, 4, 4, 4, 3, 4, 0], [44, 11, 10, 5, 11, 11, 3, 13, 2, 3, 15, 9, 8, 2, 7, 35, 3, 5, 18, 20, 17, 21, 18, 15, 16, 18, 17, 14, 16, 17, 17, 19, 16, 16, 14, 14, 14, 14, 15, 15, 15, 14, 14, 14, 13, 14, 15, 13, 16, 25, 13, 13, 13, 13, 13, 13, 14, 14, 13, 14, 13, 13, 12, 13, 13, 24, 9, 13, 12, 13, 12, 9, 12, 12, 12, 12, 12, 12, 12, 12, 12, 12, 12, 12, 12, 12, 11, 11, 11, 11, 11, 11, 11, 11, 11, 11, 11, 11, 11, 11, 11, 11, 11, 11, 11, 12, 14, 14, 14, 10, 10, 10, 14, 13, 25, 12, 11, 11, 11, 12, 12, 11, 11, 11, 10, 9, 8, 8, 8, 8, 10, 10, 10, 9, 6, 7, 7, 23, 11, 13, 7, 4, 5, 8, 4, 6, 10, 4, 7, 5, 5, 6, 9, 5, 6, 6, 4, 5, 4, 2, 4, 4, 3, 4, 4, 0], [42, 10, 9, 5, 10, 10, 2, 12, 1, 2, 14, 8, 8, 1, 6, 30, 2, 4, 13, 15, 12, 16, 13, 10, 11, 13, 12, 12, 11, 12, 12, 18, 11, 11, 9, 9, 9, 9, 10, 10, 10, 9, 9, 9, 8, 9, 10, 8, 11, 20, 8, 8, 8, 8, 8, 8, 9, 9, 8, 9, 8, 8, 7, 8, 8, 21, 8, 8, 7, 8, 7, 8, 7, 7, 7, 7, 7, 7, 7, 7, 7, 7, 7, 7, 7, 7, 6, 6, 6, 6, 6, 6, 6, 6, 6, 6, 6, 6, 6, 6, 6, 6, 6, 6, 6, 7, 9, 9, 9, 9, 9, 9, 9, 8, 21, 7, 6, 6, 6, 7, 7, 6, 6, 6, 5, 4, 3, 3, 3, 3, 5, 5, 5, 4, 5, 6, 6, 22, 8, 8, 8, 3, 4, 3, 3, 7, 5, 3, 8, 4, 4, 5, 5, 4, 7, 7, 3, 4, 3, 3, 3, 3, 2, 3, 3, 7, 0], [43, 11, 10, 6, 11, 11, 3, 13, 2, 3, 15, 9, 9, 2, 7, 32, 3, 5, 14, 17, 14, 18, 15, 11, 12, 15, 14, 13, 13, 14, 13, 21, 13, 12, 11, 11, 11, 11, 12, 12, 12, 11, 11, 11, 10, 11, 12, 10, 15, 24, 9, 9, 10, 10, 10, 10, 11, 10, 9, 10, 10, 10, 9, 10, 9, 31, 9, 10, 9, 9, 8, 9, 10, 8, 9, 9, 9, 9, 9, 9, 9, 8, 9, 9, 9, 9, 8, 7, 7, 8, 8, 8, 7, 7, 8, 8, 8, 8, 8, 7, 8, 8, 8, 8, 8, 9, 11, 11, 11, 10, 10, 10, 11, 9, 29, 9, 8, 8, 8, 9, 9, 8, 8, 8, 6, 5, 5, 5, 5, 4, 6, 7, 6, 6, 6, 7, 7, 23, 10, 9, 9, 4, 5, 4, 4, 8, 6, 4, 9, 5, 5, 6, 6, 5, 8, 8, 4, 5, 4, 4, 4, 4, 3, 4, 4, 8, 1, 0], [42, 10, 9, 5, 10, 10, 2, 12, 1, 2, 14, 8, 8, 1, 6, 31, 2, 4, 13, 16, 13, 17, 14, 11, 11, 14, 13, 12, 12, 13, 12, 19, 12, 11, 10, 10, 10, 10, 11, 11, 11, 10, 10, 10, 9, 10, 11, 9, 12, 23, 8, 8, 9, 9, 9, 9, 10, 9, 8, 9, 9, 9, 8, 9, 8, 29, 8, 9, 8, 8, 7, 8, 8, 7, 8, 8, 8, 8, 8, 8, 8, 8, 8, 8, 8, 8, 7, 6, 6, 7, 7, 7, 6, 6, 7, 7, 7, 7, 7, 7, 7, 7, 7, 7, 7, 8, 10, 10, 10, 9, 9, 9, 10, 8, 27, 8, 7, 7, 7, 8, 8, 7, 7, 7, 5, 4, 4, 4, 4, 3, 5, 6, 5, 5, 5, 6, 6, 22, 9, 8, 8, 3, 4, 3, 3, 7, 5, 3, 8, 4, 4, 5, 5, 4, 7, 7, 3, 4, 3, 3, 3, 3, 2, 3, 3, 7, 2, 4, 0], [42, 10, 9, 5, 10, 10, 2, 12, 1, 2, 14, 8, 8, 1, 6, 30, 2, 4, 13, 15, 12, 16, 13, 10, 11, 13, 12, 12, 11, 12, 12, 19, 11, 11, 9, 9, 9, 9, 10, 10, 10, 9, 9, 9, 8, 9, 10, 8, 13, 24, 8, 8, 8, 8, 8, 8, 9, 9, 8, 9, 8, 8, 7, 8, 8, 30, 8, 8, 7, 8, 7, 8, 8, 7, 7, 7, 7, 7, 7, 7, 7, 7, 7, 7, 7, 7, 6, 6, 6, 6, 6, 6, 6, 6, 6, 6, 6, 6, 6, 6, 6, 6, 6, 6, 6, 7, 9, 9, 9, 9, 9, 9, 9, 8, 27, 7, 6, 6, 6, 7, 7, 6, 6, 6, 5, 4, 3, 3, 3, 3, 5, 5, 5, 4, 5, 6, 6, 22, 9, 8, 8, 3, 4, 3, 3, 7, 5, 3, 8, 4, 4, 5, 5, 4, 7, 7, 3, 4, 3, 3, 3, 3, 2, 3, 3, 7, 2, 4, 3, 0], [42, 10, 9, 5, 10, 10, 2, 12, 1, 2, 14, 8, 6, 1, 6, 30, 2, 4, 13, 15, 12, 16, 13, 10, 11, 13, 12, 12, 11, 12, 12, 18, 11, 11, 9, 9, 9, 9, 10, 10, 10, 9, 9, 9, 8, 9, 10, 8, 9, 14, 8, 8, 8, 8, 8, 8, 9, 9, 8, 9, 8, 8, 7, 8, 8, 17, 8, 8, 7, 8, 7, 8, 7, 7, 7, 7, 7, 7, 7, 7, 7, 7, 7, 7, 7, 7, 6, 6, 6, 6, 6, 6, 6, 6, 6, 6, 6, 6, 6, 6, 6, 6, 6, 6, 6, 7, 9, 9, 9, 9, 9, 9, 9, 8, 11, 7, 6, 6, 6, 7, 7, 6, 6, 6, 5, 4, 3, 3, 3, 3, 5, 5, 5, 4, 5, 6, 6, 19, 9, 8, 8, 3, 4, 3, 3, 7, 5, 3, 6, 4, 4, 3, 5, 4, 7, 7, 3, 2, 3, 3, 3, 3, 2, 3, 3, 7, 2, 3, 3, 2, 0], [41, 10, 9, 6, 10, 10, 2, 12, 2, 2, 14, 8, 8, 1, 6, 31, 3, 4, 14, 16, 13, 17, 14, 11, 12, 14, 13, 13, 12, 13, 13, 16, 12, 12, 10, 10, 10, 10, 11, 11, 11, 10, 10, 10, 9, 10, 11, 8, 12, 21, 9, 8, 9, 9, 9, 9, 10, 10, 9, 9, 9, 9, 8, 9, 9, 20, 8, 8, 8, 8, 7, 9, 7, 8, 8, 8, 8, 8, 8, 8, 8, 8, 8, 8, 8, 8, 7, 7, 7, 7, 7, 7, 7, 6, 7, 7, 7, 7, 7, 6, 7, 7, 7, 7, 7, 8, 10, 10, 10, 9, 9, 9, 10, 9, 27, 7, 7, 7, 7, 8, 8, 7, 7, 7, 6, 5, 4, 4, 4, 3, 5, 6, 6, 5, 5, 6, 6, 22, 5, 7, 5, 4, 5, 4, 3, 3, 5, 3, 4, 5, 4, 5, 5, 5, 4, 4, 3, 5, 3, 3, 3, 3, 2, 3, 4, 4, 3, 4, 3, 3, 3, 0], [43, 10, 9, 5, 10, 10, 2, 12, 1, 2, 14, 8, 8, 1, 6, 34, 2, 4, 17, 19, 16, 20, 17, 14, 15, 17, 16, 13, 15, 16, 16, 18, 15, 15, 13, 13, 13, 13, 14, 14, 14, 13, 13, 13, 12, 13, 14, 12, 15, 24, 12, 12, 12, 12, 12, 12, 13, 13, 12, 12, 12, 12, 11, 12, 12, 23, 8, 11, 11, 12, 11, 8, 11, 11, 11, 11, 11, 11, 11, 11, 11, 11, 11, 11, 11, 11, 10, 10, 10, 10, 10, 10, 10, 10, 10, 10, 10, 10, 10, 10, 10, 10, 10, 10, 10, 11, 13, 13, 13, 9, 9, 9, 13, 12, 30, 11, 10, 10, 10, 11, 11, 10, 10, 10, 9, 8, 7, 7, 7, 7, 8, 9, 9, 8, 5, 6, 6, 22, 10, 12, 6, 3, 4, 7, 3, 3, 9, 3, 6, 4, 4, 5, 8, 4, 7, 5, 3, 4, 3, 3, 3, 3, 2, 3, 3, 3, 6, 7, 6, 6, 6, 3, 0], [41, 9, 8, 3, 9, 9, 1, 11, 1, 1, 13, 9, 4, 0, 2, 32, 4, 5, 15, 17, 14, 18, 15, 12, 13, 15, 14, 14, 13, 14, 14, 14, 13, 13, 11, 11, 11, 11, 12, 12, 12, 11, 11, 11, 10, 11, 12, 8, 13, 22, 10, 7, 10, 10, 10, 10, 11, 11, 10, 11, 10, 10, 9, 10, 10, 28, 7, 10, 9, 7, 6, 10, 6, 9, 9, 9, 9, 9, 9, 9, 9, 9, 9, 9, 9, 9, 8, 8, 8, 8, 8, 8, 8, 7, 8, 8, 8, 8, 8, 5, 8, 8, 8, 8, 8, 9, 11, 11, 11, 8, 8, 8, 11, 10, 28, 9, 8, 8, 8, 9, 9, 8, 8, 8, 7, 6, 5, 5, 5, 2, 7, 7, 7, 6, 4, 5, 5, 18, 10, 9, 10, 4, 3, 5, 2, 6, 5, 3, 7, 6, 3, 7, 1, 6, 9, 8, 2, 6, 2, 2, 2, 3, 1, 4, 5, 9, 4, 5, 4, 4, 4, 4, 8, 0], [42, 9, 8, 4, 9, 9, 1, 11, 0, 1, 13, 7, 7, 0, 5, 33, 1, 3, 16, 18, 15, 19, 16, 13, 14, 16, 15, 12, 14, 15, 15, 17, 14, 14, 12, 12, 12, 12, 13, 13, 13, 12, 12, 12, 11, 12, 13, 11, 14, 23, 11, 11, 11, 11, 11, 11, 12, 12, 11, 11, 11, 11, 10, 11, 11, 22, 7, 11, 10, 11, 10, 7, 10, 10, 10, 10, 10, 10, 10, 10, 10, 10, 10, 10, 10, 10, 9, 9, 9, 9, 9, 9, 9, 9, 9, 9, 9, 9, 9, 9, 9, 9, 9, 9, 9, 10, 12, 12, 12, 8, 8, 8, 12, 11, 29, 10, 9, 9, 9, 10, 10, 9, 9, 9, 8, 7, 6, 6, 6, 6, 7, 8, 8, 7, 4, 5, 5, 21, 9, 11, 5, 2, 3, 6, 2, 4, 8, 2, 5, 3, 3, 4, 7, 3, 4, 4, 2, 3, 2, 2, 2, 2, 1, 2, 2, 2, 5, 6, 5, 5, 5, 2, 1, 7, 0], [42, 9, 8, 4, 9, 9, 1, 11, 0, 1, 13, 7, 7, 0, 5, 33, 1, 3, 16, 18, 15, 19, 16, 13, 14, 16, 15, 12, 14, 15, 15, 17, 14, 14, 12, 12, 12, 12, 13, 13, 13, 12, 12, 12, 11, 12, 13, 11, 14, 23, 11, 11, 11, 11, 11, 11, 12, 12, 11, 12, 11, 11, 10, 11, 11, 29, 7, 11, 10, 11, 10, 7, 10, 10, 10, 10, 10, 10, 10, 10, 10, 10, 10, 10, 10, 10, 9, 9, 9, 9, 9, 9, 9, 9, 9, 9, 9, 9, 9, 9, 9, 9, 9, 9, 9, 10, 12, 12, 12, 8, 8, 8, 12, 11, 29, 10, 9, 9, 9, 10, 10, 9, 9, 9, 8, 7, 6, 6, 6, 6, 8, 8, 8, 7, 4, 5, 5, 21, 12, 11, 5, 2, 3, 6, 2, 4, 8, 2, 5, 3, 3, 4, 7, 3, 4, 4, 2, 3, 2, 2, 2, 2, 1, 2, 2, 2, 5, 6, 5, 5, 5, 2, 1, 7, 0, 0], [41, 9, 8, 4, 9, 9, 1, 11, 0, 1, 13, 7, 7, 0, 5, 35, 1, 3, 15, 20, 17, 21, 18, 13, 11, 18, 17, 11, 16, 17, 12, 22, 16, 11, 14, 14, 14, 14, 15, 15, 15, 14, 14, 14, 13, 14, 15, 13, 16, 25, 8, 8, 13, 13, 13, 13, 14, 11, 7, 9, 13, 13, 12, 13, 7, 30, 7, 13, 12, 7, 7, 7, 12, 7, 12, 12, 12, 12, 12, 12, 12, 11, 12, 12, 12, 12, 11, 5, 5, 11, 11, 11, 6, 6, 10, 10, 11, 11, 11, 9, 11, 11, 11, 11, 11, 12, 14, 14, 14, 8, 8, 8, 14, 7, 31, 12, 11, 11, 11, 12, 12, 11, 11, 11, 4, 6, 8, 8, 8, 3, 5, 10, 4, 9, 4, 5, 5, 21, 9, 7, 7, 2, 3, 3, 2, 6, 4, 2, 7, 3, 3, 4, 4, 3, 6, 6, 2, 3, 2, 2, 2, 2, 1, 2, 2, 7, 2, 8, 6, 7, 6, 2, 5, 4, 5, 5, 0], [41, 9, 8, 4, 9, 9, 1, 11, 0, 1, 13, 7, 7, 0, 5, 29, 1, 3, 12, 14, 11, 15, 12, 9, 10, 12, 11, 11, 10, 11, 11, 15, 10, 10, 8, 8, 8, 8, 9, 9, 9, 8, 8, 8, 7, 8, 9, 7, 10, 19, 7, 7, 7, 7, 7, 7, 8, 8, 7, 7, 7, 7, 6, 7, 7, 18, 7, 6, 6, 7, 6, 7, 6, 6, 6, 6, 6, 6, 6, 6, 6, 6, 6, 6, 6, 6, 5, 5, 5, 5, 5, 5, 5, 5, 5, 5, 5, 5, 5, 5, 5, 5, 5, 5, 5, 6, 8, 8, 8, 8, 8, 8, 8, 7, 21, 6, 5, 5, 5, 6, 6, 5, 5, 5, 4, 3, 2, 2, 2, 2, 3, 4, 4, 3, 4, 5, 5, 21, 5, 7, 3, 2, 3, 2, 2, 2, 4, 2, 3, 3, 3, 3, 4, 3, 2, 2, 2, 3, 2, 2, 2, 2, 1, 2, 2, 2, 1, 2, 1, 1, 1, 2, 1, 3, 0, 0, 0, 0], [41, 9, 8, 4, 9, 9, 1, 11, 0, 1, 13, 5, 5, 0, 3, 29, 1, 2, 12, 14, 11, 15, 12, 9, 10, 12, 11, 11, 10, 11, 11, 13, 10, 10, 8, 8, 8, 8, 9, 9, 9, 8, 8, 8, 7, 8, 9, 7, 10, 19, 7, 7, 7, 7, 7, 7, 8, 8, 7, 7, 7, 7, 6, 7, 7, 16, 7, 6, 6, 7, 6, 7, 6, 6, 6, 6, 6, 6, 6, 6, 6, 6, 6, 6, 6, 6, 5, 5, 5, 5, 5, 5, 5, 5, 5, 5, 5, 5, 5, 5, 5, 5, 5, 5, 5, 6, 8, 8, 8, 8, 8, 8, 8, 7, 20, 5, 5, 5, 5, 6, 6, 5, 5, 5, 4, 3, 2, 2, 2, 2, 3, 4, 4, 3, 4, 5, 5, 19, 3, 4, 3, 2, 3, 2, 2, 2, 4, 1, 3, 3, 3, 3, 2, 3, 2, 2, 2, 3, 2, 2, 2, 2, 1, 2, 2, 2, 1, 2, 1, 1, 1, 1, 1, 1, 0, 0, 0, 0, 0], [41, 9, 8, 4, 9, 9, 1, 11, 0, 1, 13, 7, 7, 0, 5, 29, 1, 3, 12, 14, 11, 15, 12, 9, 10, 12, 11, 11, 10, 11, 11, 15, 10, 10, 8, 8, 8, 8, 9, 9, 9, 8, 8, 8, 7, 8, 9, 7, 10, 19, 7, 7, 7, 7, 7, 7, 8, 8, 7, 7, 7, 7, 6, 7, 7, 16, 7, 6, 6, 7, 6, 7, 6, 6, 6, 6, 6, 6, 6, 6, 6, 6, 6, 6, 6, 6, 5, 5, 5, 5, 5, 5, 5, 5, 5, 5, 5, 5, 5, 5, 5, 5, 5, 5, 5, 6, 8, 8, 8, 8, 8, 8, 8, 7, 20, 5, 5, 5, 5, 6, 6, 5, 5, 5, 4, 2, 2, 2, 2, 2, 3, 4, 4, 3, 4, 5, 5, 21, 5, 7, 3, 2, 3, 2, 2, 2, 4, 2, 3, 3, 3, 3, 4, 3, 2, 2, 2, 3, 2, 2, 2, 2, 1, 2, 2, 2, 1, 2, 1, 1, 1, 2, 1, 3, 0, 0, 0, 0, 0, 0], [42, 10, 9, 3, 10, 10, 1, 11, 0, 1, 14, 5, 4, 0, 2, 30, 1, 2, 13, 15, 12, 16, 13, 10, 11, 13, 12, 12, 11, 12, 12, 16, 11, 11, 9, 9, 9, 9, 10, 10, 10, 9, 9, 9, 8, 9, 10, 8, 10, 12, 8, 8, 8, 8, 8, 8, 9, 9, 8, 9, 8, 8, 7, 8, 8, 18, 7, 8, 7, 8, 7, 8, 8, 7, 7, 7, 7, 7, 7, 7, 7, 7, 7, 7, 7, 7, 6, 6, 6, 6, 6, 6, 6, 6, 6, 6, 6, 6, 6, 6, 6, 6, 6, 6, 6, 7, 9, 9, 9, 9, 9, 9, 9, 8, 7, 7, 6, 6, 6, 7, 7, 6, 6, 6, 5, 3, 3, 3, 3, 3, 5, 5, 5, 4, 4, 6, 6, 16, 7, 5, 8, 3, 3, 3, 2, 7, 5, 1, 8, 3, 4, 5, 2, 4, 7, 7, 3, 3, 2, 3, 2, 2, 2, 2, 2, 7, 2, 4, 3, 2, 2, 1, 6, 1, 5, 5, 7, 0, 0, 0, 0], [52, 25, 24, 26, 25, 14, 22, 12, 22, 23, 17, 29, 18, 22, 26, 49, 22, 25, 14, 30, 29, 31, 28, 25, 26, 28, 27, 22, 26, 27, 27, 29, 26, 26, 24, 24, 24, 24, 23, 25, 25, 24, 24, 24, 23, 24, 25, 23, 26, 35, 23, 23, 23, 23, 23, 23, 24, 24, 23, 23, 23, 23, 22, 23, 23, 35, 19, 23, 22, 23, 22, 19, 22, 22, 22, 22, 22, 22, 22, 22, 22, 22, 22, 22, 22, 22, 21, 21, 21, 21, 21, 21, 21, 21, 21, 21, 21, 21, 21, 21, 21, 21, 21, 21, 21, 22, 28, 28, 28, 24, 24, 24, 28, 27, 41, 26, 25, 25, 25, 26, 26, 25, 25, 25, 24, 25, 24, 24, 24, 24, 23, 24, 24, 23, 26, 27, 27, 43, 31, 33, 27, 24, 25, 28, 24, 26, 30, 24, 27, 25, 25, 26, 29, 25, 26, 26, 24, 25, 24, 24, 24, 24, 23, 24, 24, 24, 27, 28, 27, 27, 27, 24, 23, 29, 22, 22, 27, 22, 22, 22, 27, 0], [41, 15, 14, 15, 15, 4, 12, 12, 12, 13, 7, 19, 17, 12, 15, 35, 12, 15, 0, 16, 15, 17, 14, 11, 12, 14, 13, 11, 12, 13, 13, 16, 12, 12, 10, 10, 10, 10, 9, 11, 11, 10, 10, 10, 9, 10, 11, 9, 12, 14, 9, 9, 9, 9, 9, 9, 10, 10, 9, 9, 9, 9, 8, 9, 9, 13, 9, 8, 8, 9, 8, 9, 8, 8, 8, 8, 8, 8, 8, 8, 8, 8, 8, 8, 8, 8, 7, 7, 7, 7, 7, 7, 7, 7, 7, 7, 7, 7, 7, 7, 7, 7, 7, 7, 7, 8, 14, 14, 14, 14, 14, 14, 14, 13, 15, 12, 11, 11, 11, 12, 12, 11, 11, 11, 10, 10, 10, 10, 10, 10, 9, 10, 10, 9, 16, 17, 17, 32, 17, 19, 15, 14, 14, 14, 14, 14, 16, 14, 15, 15, 15, 15, 15, 15, 14, 14, 14, 15, 14, 14, 14, 14, 13, 13, 14, 14, 13, 14, 13, 13, 13, 14, 13, 14, 12, 12, 12, 12, 12, 12, 13, 10, 0], [43, 19, 18, 20, 19, 8, 16, 16, 16, 17, 5, 20, 22, 16, 20, 39, 16, 19, 10, 20, 19, 21, 18, 15, 16, 18, 17, 15, 16, 17, 17, 21, 16, 16, 14, 14, 14, 14, 13, 15, 15, 14, 14, 14, 13, 14, 15, 13, 16, 25, 13, 13, 13, 13, 13, 13, 14, 14, 13, 13, 13, 13, 12, 13, 13, 24, 13, 12, 12, 13, 12, 13, 12, 12, 12, 12, 12, 12, 12, 12, 12, 12, 12, 12, 12, 12, 11, 11, 11, 11, 11, 11, 11, 11, 11, 11, 11, 11, 11, 11, 11, 11, 11, 11, 11, 12, 18, 18, 18, 18, 18, 18, 18, 17, 35, 16, 15, 15, 15, 16, 16, 15, 15, 15, 14, 15, 14, 14, 14, 14, 13, 14, 14, 13, 20, 21, 21, 37, 21, 23, 19, 18, 19, 18, 18, 18, 20, 18, 19, 19, 19, 20, 20, 19, 18, 18, 18, 19, 18, 18, 18, 18, 17, 18, 18, 18, 17, 18, 17, 17, 17, 18, 17, 19, 16, 16, 16, 16, 16, 16, 17, 20, 10, 0], [44, 16, 15, 17, 16, 5, 13, 13, 14, 14, 8, 20, 16, 13, 15, 41, 14, 17, 8, 22, 21, 23, 20, 17, 18, 20, 19, 14, 18, 19, 19, 17, 18, 18, 16, 16, 16, 16, 15, 17, 17, 16, 16, 16, 15, 16, 17, 14, 18, 27, 15, 14, 15, 15, 15, 15, 16, 16, 15, 15, 15, 15, 14, 15, 15, 26, 10, 14, 14, 14, 13, 11, 13, 14, 14, 14, 14, 14, 14, 14, 14, 14, 14, 14, 14, 14, 13, 13, 13, 13, 13, 13, 13, 12, 13, 13, 13, 13, 13, 12, 13, 13, 13, 13, 13, 14, 20, 20, 20, 15, 15, 15, 20, 19, 36, 18, 17, 17, 17, 18, 18, 17, 17, 17, 16, 17, 16, 16, 16, 15, 15, 16, 16, 15, 17, 18, 18, 31, 22, 23, 17, 15, 16, 20, 15, 17, 22, 16, 16, 17, 16, 18, 18, 17, 16, 17, 15, 17, 15, 15, 15, 16, 14, 15, 16, 18, 19, 20, 19, 19, 19, 16, 17, 18, 16, 16, 18, 14, 14, 14, 18, 16, 3, 12, 0], [43, 16, 15, 16, 16, 5, 13, 13, 13, 14, 8, 19, 17, 13, 15, 36, 13, 16, 3, 17, 16, 18, 15, 12, 13, 15, 14, 12, 13, 14, 14, 16, 13, 13, 11, 11, 11, 11, 10, 12, 12, 11, 11, 11, 10, 11, 12, 10, 13, 22, 10, 10, 10, 10, 10, 10, 11, 11, 10, 10, 10, 10, 9, 10, 10, 19, 10, 9, 9, 10, 9, 10, 9, 9, 9, 9, 9, 9, 9, 9, 9, 9, 9, 9, 9, 9, 8, 8, 8, 8, 8, 8, 8, 8, 8, 8, 8, 8, 8, 8, 8, 8, 8, 8, 8, 9, 15, 15, 15, 15, 15, 15, 15, 14, 27, 13, 12, 12, 12, 13, 13, 12, 12, 12, 11, 11, 11, 11, 11, 11, 10, 11, 11, 10, 17, 18, 18, 32, 17, 18, 16, 15, 15, 15, 15, 15, 17, 15, 16, 16, 16, 16, 15, 16, 15, 15, 15, 16, 15, 15, 15, 15, 14, 15, 15, 15, 14, 15, 14, 14, 14, 15, 14, 14, 13, 13, 13, 13, 13, 13, 13, 13, 3, 11, 2, 0], [43, 15, 14, 16, 15, 4, 12, 12, 12, 13, 1, 17, 18, 12, 16, 39, 12, 15, 10, 20, 19, 21, 18, 15, 16, 18, 17, 12, 16, 17, 17, 19, 16, 16, 14, 14, 14, 14, 13, 15, 15, 14, 14, 14, 13, 14, 15, 13, 13, 15, 13, 13, 13, 13, 13, 13, 14, 14, 13, 13, 13, 13, 12, 13, 13, 12, 9, 13, 12, 13, 12, 9, 12, 12, 12, 12, 12, 12, 12, 12, 12, 12, 12, 12, 12, 12, 11, 11, 11, 11, 11, 11, 11, 11, 11, 11, 11, 11, 11, 11, 11, 11, 11, 11, 11, 12, 18, 18, 18, 14, 14, 14, 18, 17, 19, 16, 15, 15, 15, 16, 16, 15, 15, 15, 14, 15, 14, 14, 14, 14, 13, 14, 14, 13, 16, 17, 17, 30, 21, 23, 17, 14, 15, 18, 14, 16, 20, 14, 17, 15, 15, 16, 19, 15, 16, 16, 14, 15, 14, 14, 14, 14, 13, 14, 14, 14, 17, 18, 17, 17, 17, 14, 13, 19, 12, 12, 17, 12, 12, 12, 17, 16, 6, 4, 10, 7, 0], [39, 13, 12, 13, 13, 2, 10, 10, 10, 11, 5, 14, 12, 10, 11, 33, 10, 12, 4, 14, 13, 15, 12, 9, 10, 12, 11, 9, 10, 11, 11, 13, 10, 10, 8, 8, 8, 8, 7, 9, 9, 8, 8, 8, 7, 8, 9, 7, 7, 7, 7, 7, 7, 7, 7, 7, 8, 8, 7, 8, 7, 7, 6, 7, 7, 12, 7, 7, 6, 7, 6, 7, 6, 6, 6, 6, 6, 6, 6, 6, 6, 6, 6, 6, 6, 6, 5, 5, 5, 5, 5, 5, 5, 5, 5, 5, 5, 5, 5, 5, 5, 5, 5, 5, 5, 6, 12, 12, 12, 12, 12, 12, 12, 11, 9, 10, 9, 9, 9, 10, 10, 9, 9, 9, 8, 8, 8, 8, 8, 8, 8, 8, 8, 7, 14, 14, 14, 14, 15, 14, 17, 12, 12, 12, 12, 16, 14, 11, 17, 13, 13, 14, 11, 13, 16, 16, 12, 13, 12, 12, 12, 11, 11, 11, 12, 16, 11, 12, 11, 11, 11, 11, 15, 10, 14, 14, 11, 10, 10, 10, 11, 18, 4, 8, 9, 5, 8, 0], [40, 14, 13, 16, 14, 3, 11, 11, 12, 12, 6, 20, 15, 11, 14, 37, 14, 15, 6, 18, 17, 19, 16, 13, 14, 16, 15, 13, 14, 15, 15, 14, 14, 14, 12, 12, 12, 12, 11, 13, 13, 12, 12, 12, 11, 12, 13, 10, 14, 23, 11, 9, 11, 11, 11, 11, 12, 12, 11, 11, 11, 11, 10, 11, 11, 22, 8, 10, 10, 8, 7, 11, 7, 10, 10, 10, 10, 10, 10, 10, 10, 10, 10, 10, 10, 10, 9, 9, 9, 9, 9, 9, 9, 9, 9, 9, 9, 9, 9, 6, 9, 9, 9, 9, 9, 10, 16, 16, 16, 13, 13, 13, 16, 15, 33, 14, 13, 13, 13, 14, 14, 13, 13, 13, 12, 13, 12, 12, 12, 10, 11, 12, 12, 11, 16, 17, 16, 30, 18, 20, 17, 16, 16, 16, 13, 14, 16, 13, 15, 17, 15, 17, 14, 17, 16, 16, 14, 17, 13, 13, 14, 14, 13, 16, 16, 16, 15, 16, 15, 15, 15, 15, 15, 13, 14, 14, 14, 14, 12, 14, 13, 16, 6, 12, 5, 6, 8, 3, 0], [40, 14, 13, 15, 14, 3, 11, 11, 11, 12, 6, 18, 17, 11, 15, 35, 11, 14, 4, 16, 15, 17, 14, 11, 12, 14, 13, 10, 12, 13, 12, 19, 12, 11, 10, 10, 10, 10, 9, 11, 11, 10, 10, 10, 9, 10, 11, 9, 12, 26, 8, 8, 9, 9, 9, 9, 10, 10, 8, 9, 9, 9, 8, 9, 8, 26, 8, 9, 8, 8, 7, 8, 8, 7, 8, 8, 8, 8, 8, 8, 8, 8, 8, 8, 8, 8, 7, 6, 6, 7, 7, 7, 6, 6, 7, 7, 7, 7, 7, 7, 7, 7, 7, 7, 7, 8, 14, 14, 14, 13, 13, 13, 14, 12, 31, 12, 11, 11, 11, 12, 12, 11, 11, 11, 9, 11, 10, 10, 10, 9, 9, 10, 9, 9, 15, 16, 16, 32, 19, 18, 18, 13, 14, 13, 13, 17, 15, 13, 18, 14, 14, 15, 15, 14, 18, 17, 13, 14, 13, 13, 13, 13, 12, 13, 13, 17, 12, 14, 13, 13, 13, 13, 16, 15, 15, 16, 13, 11, 11, 11, 13, 17, 3, 9, 9, 4, 9, 3, 3, 0], [42, 14, 13, 15, 14, 3, 11, 11, 11, 12, 6, 18, 17, 11, 15, 38, 11, 14, 5, 19, 18, 20, 17, 14, 15, 17, 16, 11, 15, 16, 16, 18, 15, 15, 13, 13, 13, 13, 12, 14, 14, 13, 13, 13, 12, 13, 14, 12, 15, 24, 12, 12, 12, 12, 12, 12, 13, 13, 12, 12, 12, 12, 11, 12, 12, 23, 8, 11, 11, 12, 11, 8, 11, 11, 11, 11, 11, 11, 11, 11, 11, 11, 11, 11, 11, 11, 10, 10, 10, 10, 10, 10, 10, 10, 10, 10, 10, 10, 10, 10, 10, 10, 10, 10, 10, 11, 17, 17, 17, 13, 13, 13, 17, 16, 34, 15, 14, 14, 14, 15, 15, 14, 14, 14, 13, 14, 13, 13, 13, 13, 12, 13, 13, 12, 15, 16, 16, 32, 20, 22, 16, 13, 14, 17, 13, 15, 19, 13, 16, 14, 14, 15, 18, 14, 16, 15, 13, 14, 13, 13, 13, 13, 12, 13, 13, 13, 16, 17, 16, 16, 16, 13, 12, 18, 11, 11, 15, 11, 11, 11, 16, 11, 1, 9, 5, 2, 5, 7, 5, 6, 0], [43, 15, 14, 16, 15, 4, 12, 12, 12, 13, 7, 19, 18, 12, 16, 39, 12, 15, 6, 20, 19, 21, 18, 15, 16, 18, 17, 12, 16, 17, 17, 19, 16, 16, 14, 14, 14, 14, 13, 15, 15, 14, 14, 14, 13, 14, 15, 13, 16, 29, 13, 13, 13, 13, 13, 13, 14, 14, 13, 14, 13, 13, 12, 13, 13, 30, 9, 13, 12, 13, 12, 9, 12, 12, 12, 12, 12, 12, 12, 12, 12, 12, 12, 12, 12, 12, 11, 11, 11, 11, 11, 11, 11, 11, 11, 11, 11, 11, 11, 11, 11, 11, 11, 11, 11, 12, 18, 18, 18, 14, 14, 14, 18, 17, 34, 16, 15, 15, 15, 16, 16, 15, 15, 15, 14, 15, 14, 14, 14, 14, 14, 14, 14, 13, 16, 17, 17, 33, 23, 23, 17, 14, 15, 18, 14, 14, 20, 14, 17, 15, 15, 16, 19, 15, 16, 14, 14, 15, 14, 14, 14, 14, 13, 14, 14, 16, 17, 18, 17, 17, 17, 14, 15, 19, 14, 14, 17, 12, 12, 12, 17, 14, 2, 10, 6, 3, 8, 8, 6, 7, 3, 0], [42, 16, 15, 17, 16, 5, 13, 13, 13, 14, 8, 20, 19, 13, 17, 36, 13, 16, 1, 17, 16, 18, 15, 12, 13, 15, 14, 12, 13, 14, 14, 18, 13, 13, 11, 11, 11, 11, 10, 12, 12, 11, 11, 11, 10, 11, 12, 10, 10, 10, 10, 10, 10, 10, 10, 10, 11, 11, 10, 10, 10, 10, 9, 10, 10, 9, 10, 9, 9, 10, 9, 10, 9, 9, 9, 9, 9, 9, 9, 9, 9, 9, 9, 9, 9, 9, 8, 8, 8, 8, 8, 8, 8, 8, 8, 8, 8, 8, 8, 8, 8, 8, 8, 8, 8, 9, 15, 15, 15, 15, 15, 15, 15, 14, 12, 13, 12, 12, 12, 13, 13, 12, 12, 12, 11, 11, 11, 11, 11, 11, 10, 11, 11, 10, 17, 18, 18, 31, 18, 20, 16, 15, 16, 15, 15, 15, 17, 15, 16, 16, 16, 16, 17, 16, 15, 15, 15, 16, 15, 15, 15, 15, 14, 14, 15, 15, 14, 15, 14, 14, 14, 15, 14, 16, 13, 13, 13, 13, 13, 13, 14, 11, 1, 11, 5, 4, 7, 5, 7, 4, 2, 3, 0], [41, 14, 13, 15, 14, 3, 11, 11, 11, 12, 6, 18, 17, 11, 15, 34, 11, 14, 1, 15, 14, 16, 13, 10, 11, 13, 12, 10, 11, 12, 12, 18, 11, 11, 9, 9, 9, 9, 8, 10, 10, 9, 9, 9, 8, 9, 10, 8, 11, 24, 8, 8, 8, 8, 8, 8, 9, 9, 8, 9, 8, 8, 7, 8, 8, 26, 8, 8, 7, 8, 7, 8, 7, 7, 7, 7, 7, 7, 7, 7, 7, 7, 7, 7, 7, 7, 6, 6, 6, 6, 6, 6, 6, 6, 6, 6, 6, 6, 6, 6, 6, 6, 6, 6, 6, 7, 13, 13, 13, 13, 13, 13, 13, 12, 30, 11, 10, 10, 10, 11, 11, 10, 10, 10, 9, 10, 9, 9, 9, 9, 9, 9, 9, 8, 15, 16, 16, 32, 19, 18, 18, 13, 14, 13, 13, 17, 15, 13, 18, 14, 14, 15, 15, 14, 17, 17, 13, 14, 13, 13, 13, 13, 12, 13, 13, 17, 12, 13, 12, 12, 12, 13, 16, 14, 15, 15, 13, 11, 11, 11, 12, 15, 1, 9, 7, 2, 9, 3, 5, 5, 4, 6, 2, 0], [43, 16, 15, 17, 16, 5, 13, 13, 13, 14, 8, 20, 19, 13, 17, 40, 13, 16, 5, 21, 20, 22, 19, 16, 17, 19, 18, 13, 17, 18, 18, 20, 17, 17, 15, 15, 15, 15, 14, 16, 16, 15, 15, 15, 14, 15, 16, 14, 17, 31, 14, 14, 14, 14, 14, 14, 15, 15, 14, 15, 14, 14, 13, 14, 14, 31, 10, 14, 13, 14, 13, 10, 13, 13, 13, 13, 13, 13, 13, 13, 13, 13, 13, 13, 13, 13, 12, 12, 12, 12, 12, 12, 12, 12, 12, 12, 12, 12, 12, 12, 12, 12, 12, 12, 12, 13, 19, 19, 19, 15, 15, 15, 19, 18, 34, 17, 16, 16, 16, 17, 17, 16, 16, 16, 15, 16, 15, 15, 15, 15, 15, 15, 15, 14, 17, 18, 18, 34, 24, 24, 18, 15, 16, 19, 15, 15, 21, 15, 18, 16, 16, 17, 20, 16, 17, 15, 15, 16, 15, 15, 15, 15, 14, 15, 15, 17, 18, 19, 18, 18, 18, 15, 16, 20, 15, 15, 18, 13, 13, 13, 18, 13, 1, 11, 7, 4, 9, 9, 7, 8, 4, 3, 2, 8, 0], [41, 15, 14, 16, 15, 4, 12, 12, 12, 13, 7, 19, 18, 12, 16, 35, 12, 15, 0, 16, 15, 17, 14, 11, 12, 14, 13, 11, 12, 13, 13, 17, 12, 12, 10, 10, 10, 10, 9, 11, 11, 10, 10, 10, 9, 10, 11, 9, 12, 21, 9, 9, 9, 9, 9, 9, 10, 10, 9, 9, 9, 9, 8, 9, 9, 20, 9, 8, 8, 9, 8, 9, 8, 8, 8, 8, 8, 8, 8, 8, 8, 8, 8, 8, 8, 8, 7, 7, 7, 7, 7, 7, 7, 7, 7, 7, 7, 7, 7, 7, 7, 7, 7, 7, 7, 8, 14, 14, 14, 14, 14, 14, 14, 13, 31, 12, 11, 11, 11, 12, 12, 11, 11, 11, 10, 11, 10, 10, 10, 10, 9, 10, 10, 9, 16, 17, 17, 33, 17, 19, 15, 14, 15, 14, 14, 14, 16, 14, 15, 15, 15, 15, 16, 15, 14, 14, 14, 15, 14, 14, 14, 14, 13, 14, 14, 14, 13, 14, 13, 13, 13, 14, 13, 15, 12, 12, 12, 12, 12, 12, 12, 10, 0, 10, 4, 3, 6, 4, 6, 3, 1, 2, 1, 1, 1, 0], [41, 15, 14, 16, 15, 4, 12, 12, 12, 13, 7, 19, 18, 12, 16, 35, 12, 15, 0, 16, 15, 17, 14, 11, 12, 14, 13, 11, 12, 13, 13, 19, 12, 12, 10, 10, 10, 10, 9, 11, 11, 10, 10, 10, 9, 10, 11, 9, 12, 21, 9, 9, 9, 9, 9, 9, 10, 10, 9, 9, 9, 9, 8, 9, 9, 20, 9, 8, 8, 9, 8, 9, 8, 8, 8, 8, 8, 8, 8, 8, 8, 8, 8, 8, 8, 8, 7, 7, 7, 7, 7, 7, 7, 7, 7, 7, 7, 7, 7, 7, 7, 7, 7, 7, 7, 8, 14, 14, 14, 14, 14, 14, 14, 13, 31, 12, 11, 11, 11, 12, 12, 11, 11, 11, 10, 11, 10, 10, 10, 10, 9, 10, 10, 9, 16, 17, 17, 33, 17, 19, 19, 14, 15, 14, 14, 18, 16, 14, 19, 15, 15, 16, 16, 15, 18, 18, 14, 15, 14, 14, 14, 14, 13, 14, 14, 18, 13, 14, 13, 13, 13, 14, 17, 15, 16, 16, 12, 12, 12, 12, 13, 14, 0, 10, 8, 3, 10, 4, 6, 3, 5, 6, 1, 1, 5, 0, 0], [42, 15, 14, 15, 15, 4, 12, 12, 12, 13, 7, 18, 15, 12, 13, 39, 12, 14, 4, 20, 19, 21, 18, 15, 16, 18, 17, 12, 16, 17, 17, 16, 16, 16, 14, 14, 14, 14, 13, 15, 15, 14, 14, 14, 13, 14, 15, 13, 16, 23, 13, 13, 13, 13, 13, 13, 14, 14, 13, 13, 13, 13, 12, 13, 13, 18, 9, 12, 12, 13, 12, 9, 12, 12, 12, 12, 12, 12, 12, 12, 12, 12, 12, 12, 12, 12, 11, 11, 11, 11, 11, 11, 11, 11, 11, 11, 11, 11, 11, 11, 11, 11, 11, 11, 11, 12, 18, 18, 18, 14, 14, 14, 18, 17, 26, 16, 15, 15, 15, 16, 16, 15, 15, 15, 14, 15, 14, 14, 14, 14, 13, 14, 14, 13, 16, 17, 17, 30, 20, 21, 17, 14, 14, 18, 14, 14, 20, 13, 17, 15, 15, 16, 16, 15, 16, 14, 14, 15, 14, 14, 14, 14, 13, 14, 14, 16, 17, 18, 17, 17, 17, 13, 15, 16, 14, 14, 16, 12, 12, 12, 17, 12, 0, 10, 5, 3, 8, 8, 4, 7, 3, 2, 1, 5, 1, 0, 4, 0], [41, 15, 14, 15, 15, 4, 12, 12, 12, 13, 7, 17, 15, 12, 13, 35, 12, 14, 0, 16, 15, 17, 14, 11, 12, 14, 13, 11, 12, 13, 13, 14, 12, 12, 10, 10, 10, 10, 9, 11, 11, 10, 10, 10, 9, 10, 11, 9, 12, 21, 9, 9, 9, 9, 9, 9, 10, 10, 9, 9, 9, 9, 8, 9, 9, 20, 9, 8, 8, 9, 8, 9, 8, 8, 8, 8, 8, 8, 8, 8, 8, 8, 8, 8, 8, 8, 7, 7, 7, 7, 7, 7, 7, 7, 7, 7, 7, 7, 7, 7, 7, 7, 7, 7, 7, 8, 14, 14, 14, 14, 14, 14, 14, 13, 29, 12, 11, 11, 11, 12, 12, 11, 11, 11, 10, 10, 10, 10, 10, 10, 9, 10, 10, 9, 16, 17, 17, 30, 15, 16, 15, 14, 14, 14, 14, 14, 16, 13, 15, 15, 15, 15, 13, 15, 14, 14, 14, 15, 14, 14, 14, 14, 13, 14, 14, 14, 13, 14, 13, 13, 13, 13, 13, 12, 12, 12, 12, 12, 12, 12, 12, 10, 0, 10, 3, 3, 6, 4, 4, 3, 1, 2, 1, 1, 1, 0, 0, 0, 0], [42, 16, 15, 16, 16, 5, 13, 13, 13, 14, 8, 18, 16, 13, 14, 36, 13, 15, 1, 17, 16, 18, 15, 12, 13, 15, 14, 12, 13, 14, 14, 15, 13, 13, 11, 11, 11, 11, 10, 12, 12, 11, 11, 11, 10, 11, 12, 10, 13, 22, 10, 10, 10, 10, 10, 10, 11, 11, 10, 10, 10, 10, 9, 10, 10, 16, 10, 9, 9, 10, 9, 10, 9, 9, 9, 9, 9, 9, 9, 9, 9, 9, 9, 9, 9, 9, 8, 8, 8, 8, 8, 8, 8, 8, 8, 8, 8, 8, 8, 8, 8, 8, 8, 8, 8, 9, 15, 15, 15, 15, 15, 15, 15, 14, 24, 13, 12, 12, 12, 13, 13, 12, 12, 12, 11, 11, 11, 11, 11, 11, 10, 11, 11, 10, 17, 18, 18, 31, 16, 17, 16, 15, 15, 15, 15, 15, 17, 14, 16, 16, 16, 16, 14, 16, 15, 15, 15, 16, 15, 15, 15, 15, 14, 15, 15, 15, 14, 15, 14, 14, 14, 14, 14, 13, 13, 13, 13, 13, 13, 13, 13, 11, 1, 11, 4, 4, 7, 5, 5, 4, 2, 3, 2, 2, 2, 1, 1, 1, 1, 0]])"
            ]
          },
          "metadata": {
            "tags": []
          },
          "execution_count": 27
        }
      ]
    },
    {
      "cell_type": "markdown",
      "metadata": {
        "id": "SxD2XSHvoZXP",
        "colab_type": "text"
      },
      "source": [
        "*The following table would exceed the page size limit. Please see `4.1_dm.txt` in the porvided files in `FinalProject2_JenniferLin` folder.*"
      ]
    },
    {
      "cell_type": "code",
      "metadata": {
        "id": "lszn9FA1zS5w",
        "colab_type": "code",
        "colab": {}
      },
      "source": [
        "print(dm)"
      ],
      "execution_count": 0,
      "outputs": []
    },
    {
      "cell_type": "markdown",
      "metadata": {
        "id": "5KGXG7vtQz4v",
        "colab_type": "text"
      },
      "source": [
        "#### 4.2 Construct the `tree` using UPGMA"
      ]
    },
    {
      "cell_type": "code",
      "metadata": {
        "id": "0CFc58yeRI0m",
        "colab_type": "code",
        "colab": {}
      },
      "source": [
        "constructor = DistanceTreeConstructor()\n",
        "tree = constructor.upgma(dm)"
      ],
      "execution_count": 0,
      "outputs": []
    },
    {
      "cell_type": "markdown",
      "metadata": {
        "id": "wa7EX-IPRBJP",
        "colab_type": "text"
      },
      "source": [
        "#### 4.3 Visualize the `tree`"
      ]
    },
    {
      "cell_type": "markdown",
      "metadata": {
        "id": "q3jp4XAaqA_G",
        "colab_type": "text"
      },
      "source": [
        "*The following plot would exceed the page size limit. Please see `4.3_phylogenetic_tree_UPGMA.png` in the porvided files in `FinalProject2_JenniferLin` folder or the last part `8 figures` of this document.*"
      ]
    },
    {
      "cell_type": "code",
      "metadata": {
        "id": "panHT8u6Pp9g",
        "colab_type": "code",
        "colab": {}
      },
      "source": [
        "matplotlib.rc('font', size=6)\n",
        "fig = plt.figure(figsize=(15, 40), dpi=300)\n",
        "axes = fig.add_subplot(1, 1, 1)\n",
        "Phylo.draw(tree, axes=axes)\n",
        "plt.savefig(\"4.3_phylogenetic_tree_UPGMA.png\", dpi=300)"
      ],
      "execution_count": 0,
      "outputs": []
    },
    {
      "cell_type": "markdown",
      "metadata": {
        "id": "5Rjwcx0XSoUw",
        "colab_type": "text"
      },
      "source": [
        "# 5\n",
        "Write up a few sentences about what you infer from this tree and the evolution of the\n",
        "virus across the world."
      ]
    },
    {
      "cell_type": "markdown",
      "metadata": {
        "id": "oUuK_C7bTExH",
        "colab_type": "text"
      },
      "source": [
        "> China origins\n",
        ">> In the deepest root (`inner 199`), it divides all the data to `LR757997_China` and other cases. In the second deepest root (`inner 198`), it divides all the data to `MT226610_China` and other cases. Consequently, these two strains may be the very first origins of all the COVID-19 strains in the world.\n",
        "\n",
        "> USA early branch\n",
        ">> In the third deepest root (`inner 197`), `MT246487_USA` was evolved. This means this strain in USA may be the most close relative to th China original strains, Nevertheless, this strin did not evolve to other strains in our dataset, which may be due to the reason that we did not get the enough sample from them. \n",
        "\n",
        "> USA cluster (`inner192`)\n",
        ">> The viruses from the first big cluster (`inner192`) were all discovered from USA. This tells us the sequences of these virus are all similar to each other and thus they may come from the same origin.\n",
        "\n",
        "> USA + Other countries clusters (`inner 195`)\n",
        ">> In the second big cluster (`inner 195`), we can see a lot of countries mixed together. Because a lot of the samples come from USA, we can see some of the cases in USA are very close to cases in South Korea (`inner 194`) or Spain (`inner 84`) etc.\n",
        "\n",
        "> Asian clusters\n",
        ">> As for other countries, we can see most of the Asian countries are cluster together (e.g., Japan, Hong Kong, Taiwan, China, Vietnam, Nepal, and Australia). This means the strains in these countries are close relatives. It may be due to the fact that these countries are geographically close to each other and hence it is easy for the virus to spread in these countries. \n",
        ">>\n",
        ">> Some of the cases in USA or Europe (e.g., Italy, Finland, Sweden) are clustered in the Asian clusters as well. This shows that these cases may have interacted with the Asian cases and thus got infected.\n",
        ">>\n",
        ">> In the last clusterm, cases from India and Pakistan seem to cluster together although we actually may not have enough cases to validate this.\n",
        "\n",
        "> Spain cluster\n",
        ">> Althogh we do not have a lot of cases from Europe in this dataset, we can still see most of the cases in the last small cluster are from Spain, which indicated the close relationship of these strains in Spain.\n",
        "\n",
        "\n",
        "\n"
      ]
    },
    {
      "cell_type": "markdown",
      "metadata": {
        "id": "V6P3vVPgSs8F",
        "colab_type": "text"
      },
      "source": [
        "# 6 Bonus\n",
        "How is the data presented on https://nextstrain.org an improvement on the results generated here?"
      ]
    },
    {
      "cell_type": "markdown",
      "metadata": {
        "id": "BhlSt5G2TMbg",
        "colab_type": "text"
      },
      "source": [
        "> I think the data presented on Nextstrain website is better because it provides not only the global analysis but also the analyses for local regions separately. It provides the analysis for North America, Europe, Asia, Oceania, Africa, and South America. Sometimes conducting analyses on separeted regions would help us understand more about the evolution of the viruses.\n",
        "\n",
        "> In addition, it provides the information for different kinds of pathogens and the communities that these pathogens form.\n",
        "\n",
        "> Lastly, it provides a lot of interactive figures for the users to play with. For example, in phylogenetic plots, we can choose to highlight the countries that we are interested in. It also offers the global map of the transmission of the viruses. These interesting figures definitely help us a lot for understanding the phylogeny of these viruses."
      ]
    },
    {
      "cell_type": "markdown",
      "metadata": {
        "id": "BJ97FcIxST3r",
        "colab_type": "text"
      },
      "source": [
        "# 7 Others"
      ]
    },
    {
      "cell_type": "markdown",
      "metadata": {
        "id": "YfVAQirYnQ1N",
        "colab_type": "text"
      },
      "source": [
        "I also tried to use other popular phylogenetic programs to build the phylotgenetic trees. The results of the following two trees show similar topologies as the tree built by UPGMA alogorithm in Python."
      ]
    },
    {
      "cell_type": "markdown",
      "metadata": {
        "id": "F0x61VIXqcoI",
        "colab_type": "text"
      },
      "source": [
        "7.1 RAxML (using maximum likelihood algorithm)"
      ]
    },
    {
      "cell_type": "markdown",
      "metadata": {
        "id": "zI2Mpy1fqeAH",
        "colab_type": "text"
      },
      "source": [
        "*The following plot would exceed the page size limit. Please see `7.1_phylogenetic_tree_RaxML.png` in the porvided files in `FinalProject2_JenniferLin` folder or the last part `8 figures` of this document.*"
      ]
    },
    {
      "cell_type": "code",
      "metadata": {
        "id": "IBLc5aexH-hH",
        "colab_type": "code",
        "colab": {}
      },
      "source": [
        "tree_RAxML = Phylo.read('covid_RAxML.nwk', 'newick')\n",
        "matplotlib.rc('font', size=6)\n",
        "fig = plt.figure(figsize=(15, 40), dpi=300)\n",
        "axes = fig.add_subplot(1, 1, 1)\n",
        "Phylo.draw(tree, axes=axes)\n",
        "plt.savefig(\"7.1_phylogenetic_tree_RaxML.png\", dpi=300)"
      ],
      "execution_count": 0,
      "outputs": []
    },
    {
      "cell_type": "markdown",
      "metadata": {
        "id": "UQ9Dxc2qqsDG",
        "colab_type": "text"
      },
      "source": [
        "7.2 MrBayes (using Bayesian inference algorithm)"
      ]
    },
    {
      "cell_type": "markdown",
      "metadata": {
        "id": "mXdKqS94qs9a",
        "colab_type": "text"
      },
      "source": [
        "*The following plot would exceed the page size limit. Please see `7.2_phylogenetic_tree_MrBayes.png` in the porvided files in `FinalProject2_JenniferLin` folder or the last part `8 figures` of this document.*"
      ]
    },
    {
      "cell_type": "code",
      "metadata": {
        "id": "9CoRSBbhSA3C",
        "colab_type": "code",
        "colab": {}
      },
      "source": [
        "tree_MrBayes = Phylo.read('covid_MrBayes.nwk', 'newick')\n",
        "matplotlib.rc('font', size=6)\n",
        "fig = plt.figure(figsize=(15, 40), dpi=300)\n",
        "axes = fig.add_subplot(1, 1, 1)\n",
        "Phylo.draw(tree, axes=axes)\n",
        "plt.savefig(\"7.2_phylogenetic_tree_MrBayes.png\", dpi=300)"
      ],
      "execution_count": 0,
      "outputs": []
    },
    {
      "cell_type": "markdown",
      "metadata": {
        "id": "rr8NnjDkzXz7",
        "colab_type": "text"
      },
      "source": [
        "# 8 Figures"
      ]
    },
    {
      "cell_type": "markdown",
      "metadata": {
        "id": "eRWH6fjP2fob",
        "colab_type": "text"
      },
      "source": [
        "(see next three pages)"
      ]
    }
  ]
}